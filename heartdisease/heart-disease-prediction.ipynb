{
 "cells": [
  {
   "cell_type": "code",
   "execution_count": 60,
   "id": "ac581640",
   "metadata": {
    "execution": {
     "iopub.execute_input": "2022-06-03T12:53:04.339811Z",
     "iopub.status.busy": "2022-06-03T12:53:04.330220Z",
     "iopub.status.idle": "2022-06-03T12:53:05.828098Z",
     "shell.execute_reply": "2022-06-03T12:53:05.828682Z",
     "shell.execute_reply.started": "2022-06-03T12:23:19.718863Z"
    },
    "papermill": {
     "duration": 1.547646,
     "end_time": "2022-06-03T12:53:05.829016",
     "exception": false,
     "start_time": "2022-06-03T12:53:04.281370",
     "status": "completed"
    },
    "tags": []
   },
   "outputs": [],
   "source": [
    "import pandas as pd \n",
    "import numpy as np\n",
    "\n",
    "\n",
    "%matplotlib inline\n",
    "import seaborn as sns\n",
    "import matplotlib.pyplot as plt\n",
    "\n",
    "from sklearn.neighbors import KNeighborsClassifier\n",
    "from sklearn import tree\n",
    "\n",
    "\n",
    "from sklearn.model_selection import train_test_split\n",
    "from sklearn.compose import make_column_transformer\n",
    "from sklearn.preprocessing import OneHotEncoder\n",
    "from sklearn.compose import make_column_transformer\n",
    "from sklearn.preprocessing import StandardScaler \n",
    "from sklearn import metrics"
   ]
  },
  {
   "cell_type": "markdown",
   "id": "7a184778",
   "metadata": {
    "papermill": {
     "duration": 0.046379,
     "end_time": "2022-06-03T12:53:05.922661",
     "exception": false,
     "start_time": "2022-06-03T12:53:05.876282",
     "status": "completed"
    },
    "tags": []
   },
   "source": [
    "# <b>3 <span style='color:#0386f7de'>|</span> Reading the dataset</b>"
   ]
  },
  {
   "cell_type": "code",
   "execution_count": 95,
   "id": "0560300c",
   "metadata": {
    "execution": {
     "iopub.execute_input": "2022-06-03T12:53:06.016520Z",
     "iopub.status.busy": "2022-06-03T12:53:06.015895Z",
     "iopub.status.idle": "2022-06-03T12:53:06.988074Z",
     "shell.execute_reply": "2022-06-03T12:53:06.987515Z",
     "shell.execute_reply.started": "2022-06-03T12:23:19.789124Z"
    },
    "papermill": {
     "duration": 1.020038,
     "end_time": "2022-06-03T12:53:06.988228",
     "exception": false,
     "start_time": "2022-06-03T12:53:05.968190",
     "status": "completed"
    },
    "tags": []
   },
   "outputs": [
    {
     "data": {
      "text/html": [
       "<div>\n",
       "<style scoped>\n",
       "    .dataframe tbody tr th:only-of-type {\n",
       "        vertical-align: middle;\n",
       "    }\n",
       "\n",
       "    .dataframe tbody tr th {\n",
       "        vertical-align: top;\n",
       "    }\n",
       "\n",
       "    .dataframe thead th {\n",
       "        text-align: right;\n",
       "    }\n",
       "</style>\n",
       "<table border=\"1\" class=\"dataframe\">\n",
       "  <thead>\n",
       "    <tr style=\"text-align: right;\">\n",
       "      <th></th>\n",
       "      <th>HeartDisease</th>\n",
       "      <th>BMI</th>\n",
       "      <th>Smoking</th>\n",
       "      <th>AlcoholDrinking</th>\n",
       "      <th>Stroke</th>\n",
       "      <th>PhysicalHealth</th>\n",
       "      <th>MentalHealth</th>\n",
       "      <th>DiffWalking</th>\n",
       "      <th>Sex</th>\n",
       "      <th>AgeCategory</th>\n",
       "      <th>Race</th>\n",
       "      <th>Diabetic</th>\n",
       "      <th>PhysicalActivity</th>\n",
       "      <th>GenHealth</th>\n",
       "      <th>SleepTime</th>\n",
       "      <th>Asthma</th>\n",
       "      <th>KidneyDisease</th>\n",
       "      <th>SkinCancer</th>\n",
       "    </tr>\n",
       "  </thead>\n",
       "  <tbody>\n",
       "    <tr>\n",
       "      <th>0</th>\n",
       "      <td>No</td>\n",
       "      <td>16.60</td>\n",
       "      <td>Yes</td>\n",
       "      <td>No</td>\n",
       "      <td>No</td>\n",
       "      <td>3.0</td>\n",
       "      <td>30.0</td>\n",
       "      <td>No</td>\n",
       "      <td>Female</td>\n",
       "      <td>55-59</td>\n",
       "      <td>White</td>\n",
       "      <td>Yes</td>\n",
       "      <td>Yes</td>\n",
       "      <td>Very good</td>\n",
       "      <td>5.0</td>\n",
       "      <td>Yes</td>\n",
       "      <td>No</td>\n",
       "      <td>Yes</td>\n",
       "    </tr>\n",
       "    <tr>\n",
       "      <th>1</th>\n",
       "      <td>No</td>\n",
       "      <td>20.34</td>\n",
       "      <td>No</td>\n",
       "      <td>No</td>\n",
       "      <td>Yes</td>\n",
       "      <td>0.0</td>\n",
       "      <td>0.0</td>\n",
       "      <td>No</td>\n",
       "      <td>Female</td>\n",
       "      <td>80 or older</td>\n",
       "      <td>White</td>\n",
       "      <td>No</td>\n",
       "      <td>Yes</td>\n",
       "      <td>Very good</td>\n",
       "      <td>7.0</td>\n",
       "      <td>No</td>\n",
       "      <td>No</td>\n",
       "      <td>No</td>\n",
       "    </tr>\n",
       "    <tr>\n",
       "      <th>2</th>\n",
       "      <td>No</td>\n",
       "      <td>26.58</td>\n",
       "      <td>Yes</td>\n",
       "      <td>No</td>\n",
       "      <td>No</td>\n",
       "      <td>20.0</td>\n",
       "      <td>30.0</td>\n",
       "      <td>No</td>\n",
       "      <td>Male</td>\n",
       "      <td>65-69</td>\n",
       "      <td>White</td>\n",
       "      <td>Yes</td>\n",
       "      <td>Yes</td>\n",
       "      <td>Fair</td>\n",
       "      <td>8.0</td>\n",
       "      <td>Yes</td>\n",
       "      <td>No</td>\n",
       "      <td>No</td>\n",
       "    </tr>\n",
       "    <tr>\n",
       "      <th>3</th>\n",
       "      <td>No</td>\n",
       "      <td>24.21</td>\n",
       "      <td>No</td>\n",
       "      <td>No</td>\n",
       "      <td>No</td>\n",
       "      <td>0.0</td>\n",
       "      <td>0.0</td>\n",
       "      <td>No</td>\n",
       "      <td>Female</td>\n",
       "      <td>75-79</td>\n",
       "      <td>White</td>\n",
       "      <td>No</td>\n",
       "      <td>No</td>\n",
       "      <td>Good</td>\n",
       "      <td>6.0</td>\n",
       "      <td>No</td>\n",
       "      <td>No</td>\n",
       "      <td>Yes</td>\n",
       "    </tr>\n",
       "    <tr>\n",
       "      <th>4</th>\n",
       "      <td>No</td>\n",
       "      <td>23.71</td>\n",
       "      <td>No</td>\n",
       "      <td>No</td>\n",
       "      <td>No</td>\n",
       "      <td>28.0</td>\n",
       "      <td>0.0</td>\n",
       "      <td>Yes</td>\n",
       "      <td>Female</td>\n",
       "      <td>40-44</td>\n",
       "      <td>White</td>\n",
       "      <td>No</td>\n",
       "      <td>Yes</td>\n",
       "      <td>Very good</td>\n",
       "      <td>8.0</td>\n",
       "      <td>No</td>\n",
       "      <td>No</td>\n",
       "      <td>No</td>\n",
       "    </tr>\n",
       "  </tbody>\n",
       "</table>\n",
       "</div>"
      ],
      "text/plain": [
       "  HeartDisease    BMI Smoking AlcoholDrinking Stroke  PhysicalHealth  \\\n",
       "0           No  16.60     Yes              No     No             3.0   \n",
       "1           No  20.34      No              No    Yes             0.0   \n",
       "2           No  26.58     Yes              No     No            20.0   \n",
       "3           No  24.21      No              No     No             0.0   \n",
       "4           No  23.71      No              No     No            28.0   \n",
       "\n",
       "   MentalHealth DiffWalking     Sex  AgeCategory   Race Diabetic  \\\n",
       "0          30.0          No  Female        55-59  White      Yes   \n",
       "1           0.0          No  Female  80 or older  White       No   \n",
       "2          30.0          No    Male        65-69  White      Yes   \n",
       "3           0.0          No  Female        75-79  White       No   \n",
       "4           0.0         Yes  Female        40-44  White       No   \n",
       "\n",
       "  PhysicalActivity  GenHealth  SleepTime Asthma KidneyDisease SkinCancer  \n",
       "0              Yes  Very good        5.0    Yes            No        Yes  \n",
       "1              Yes  Very good        7.0     No            No         No  \n",
       "2              Yes       Fair        8.0    Yes            No         No  \n",
       "3               No       Good        6.0     No            No        Yes  \n",
       "4              Yes  Very good        8.0     No            No         No  "
      ]
     },
     "execution_count": 95,
     "metadata": {},
     "output_type": "execute_result"
    }
   ],
   "source": [
    "df = pd.read_csv('datasets/heart_2020_cleaned.csv')\n",
    "df.head()"
   ]
  },
  {
   "cell_type": "markdown",
   "id": "01bb03ff",
   "metadata": {
    "papermill": {
     "duration": 0.046273,
     "end_time": "2022-06-03T12:53:07.422402",
     "exception": false,
     "start_time": "2022-06-03T12:53:07.376129",
     "status": "completed"
    },
    "tags": []
   },
   "source": [
    "# <b>5 <span style='color:#0386f7de'>|</span> Data Cleaning</b>"
   ]
  },
  {
   "cell_type": "code",
   "execution_count": 96,
   "id": "4f58a2b8",
   "metadata": {
    "execution": {
     "iopub.execute_input": "2022-06-03T12:53:08.210265Z",
     "iopub.status.busy": "2022-06-03T12:53:08.209536Z",
     "iopub.status.idle": "2022-06-03T12:53:08.542608Z",
     "shell.execute_reply": "2022-06-03T12:53:08.541946Z",
     "shell.execute_reply.started": "2022-06-03T12:23:21.095481Z"
    },
    "papermill": {
     "duration": 0.389144,
     "end_time": "2022-06-03T12:53:08.542753",
     "exception": false,
     "start_time": "2022-06-03T12:53:08.153609",
     "status": "completed"
    },
    "tags": []
   },
   "outputs": [],
   "source": [
    "df[\"AgeCategory\"].unique()\n",
    "df=df[df.columns].replace({'18-24':0, '25-29':1, '30-34':2,'35-39':3,'40-44':4,'45-49':5,'50-54':6,'55-59':7,'60-64':8,'65-69':9,'70-74':10,\n",
    "                        '75-79':11,'80 or older':12\n",
    "})"
   ]
  },
  {
   "cell_type": "code",
   "execution_count": 97,
   "id": "853a06a3",
   "metadata": {},
   "outputs": [],
   "source": [
    "df[\"GenHealth\"].unique()\n",
    "df = df[df.columns].replace({'Poor': 0, 'Fair': 1, 'Good': 2, 'Very good': 3, 'Excellent': 4,\n",
    "                             })\n"
   ]
  },
  {
   "cell_type": "code",
   "execution_count": 98,
   "id": "7e3cc1e5",
   "metadata": {
    "execution": {
     "iopub.execute_input": "2022-06-03T12:53:08.763885Z",
     "iopub.status.busy": "2022-06-03T12:53:08.763198Z",
     "iopub.status.idle": "2022-06-03T12:53:12.045188Z",
     "shell.execute_reply": "2022-06-03T12:53:12.045700Z",
     "shell.execute_reply.started": "2022-06-03T12:23:21.429493Z"
    },
    "papermill": {
     "duration": 3.359977,
     "end_time": "2022-06-03T12:53:12.045879",
     "exception": false,
     "start_time": "2022-06-03T12:53:08.685902",
     "status": "completed"
    },
    "tags": []
   },
   "outputs": [],
   "source": [
    "df =  df[df.columns].replace({'Yes':1, 'No':0, 'Male':1,'Female':0,'No, borderline diabetes':'0','Yes (during pregnancy)':'1' })\n",
    "df['Diabetic'] = df['Diabetic'].astype(int)"
   ]
  },
  {
   "cell_type": "code",
   "execution_count": 99,
   "id": "c80c5edb",
   "metadata": {},
   "outputs": [],
   "source": [
    "convert_Dict={\n",
    "    \"PhysicalHealth\": int,\n",
    "    \"MentalHealth\":int,\n",
    "}\n",
    "\n",
    "df = df.astype(convert_Dict)"
   ]
  },
  {
   "cell_type": "markdown",
   "id": "7bbd9b85",
   "metadata": {
    "papermill": {
     "duration": 0.06787,
     "end_time": "2022-06-03T12:53:27.239594",
     "exception": false,
     "start_time": "2022-06-03T12:53:27.171724",
     "status": "completed"
    },
    "tags": []
   },
   "source": [
    "# <b>7<span style='color:#0386f7de'>|</span> Split Dataset for Training and Testing</b>"
   ]
  },
  {
   "cell_type": "code",
   "execution_count": 100,
   "id": "0745616f",
   "metadata": {
    "execution": {
     "iopub.execute_input": "2022-06-03T12:53:27.378877Z",
     "iopub.status.busy": "2022-06-03T12:53:27.378226Z",
     "iopub.status.idle": "2022-06-03T12:53:27.513589Z",
     "shell.execute_reply": "2022-06-03T12:53:27.514038Z",
     "shell.execute_reply.started": "2022-06-03T12:23:37.645148Z"
    },
    "papermill": {
     "duration": 0.206688,
     "end_time": "2022-06-03T12:53:27.514238",
     "exception": false,
     "start_time": "2022-06-03T12:53:27.307550",
     "status": "completed"
    },
    "tags": []
   },
   "outputs": [
    {
     "name": "stdout",
     "output_type": "stream",
     "text": [
      "Shape of training feature: (255836, 16)\n",
      "Shape of testing feature: (63959, 16)\n",
      "Shape of training label: (255836,)\n",
      "Shape of training label: (63959,)\n"
     ]
    }
   ],
   "source": [
    "#Select Features\n",
    "features = df.drop(columns =['HeartDisease','Race'], axis = 1)\n",
    "\n",
    "#Select Target \n",
    "target = df['HeartDisease']\n",
    "\n",
    "# Set Training and Testing Data\n",
    "from sklearn.model_selection import train_test_split\n",
    "X_train, X_test, y_train, y_test = train_test_split(features, target, shuffle = True, test_size = .2, random_state = 44)\n",
    "\n",
    "\n",
    "print('Shape of training feature:', X_train.shape)\n",
    "print('Shape of testing feature:', X_test.shape)\n",
    "print('Shape of training label:', y_train.shape)\n",
    "print('Shape of training label:', y_test.shape)"
   ]
  },
  {
   "cell_type": "markdown",
   "id": "3b99ccc3",
   "metadata": {
    "papermill": {
     "duration": 0.067946,
     "end_time": "2022-06-03T12:53:27.650685",
     "exception": false,
     "start_time": "2022-06-03T12:53:27.582739",
     "status": "completed"
    },
    "tags": []
   },
   "source": [
    "# <b>8<span style='color:#0386f7de'>|</span> Data Preprocessing</b>"
   ]
  },
  {
   "cell_type": "code",
   "execution_count": 101,
   "id": "539de3b1",
   "metadata": {},
   "outputs": [
    {
     "name": "stdout",
     "output_type": "stream",
     "text": [
      "<class 'pandas.core.frame.DataFrame'>\n",
      "Int64Index: 255836 entries, 213522 to 14100\n",
      "Data columns (total 16 columns):\n",
      " #   Column            Non-Null Count   Dtype  \n",
      "---  ------            --------------   -----  \n",
      " 0   BMI               255836 non-null  float64\n",
      " 1   Smoking           255836 non-null  int64  \n",
      " 2   AlcoholDrinking   255836 non-null  int64  \n",
      " 3   Stroke            255836 non-null  int64  \n",
      " 4   PhysicalHealth    255836 non-null  int32  \n",
      " 5   MentalHealth      255836 non-null  int32  \n",
      " 6   DiffWalking       255836 non-null  int64  \n",
      " 7   Sex               255836 non-null  int64  \n",
      " 8   AgeCategory       255836 non-null  int64  \n",
      " 9   Diabetic          255836 non-null  int32  \n",
      " 10  PhysicalActivity  255836 non-null  int64  \n",
      " 11  GenHealth         255836 non-null  int64  \n",
      " 12  SleepTime         255836 non-null  float64\n",
      " 13  Asthma            255836 non-null  int64  \n",
      " 14  KidneyDisease     255836 non-null  int64  \n",
      " 15  SkinCancer        255836 non-null  int64  \n",
      "dtypes: float64(2), int32(3), int64(11)\n",
      "memory usage: 30.3 MB\n"
     ]
    }
   ],
   "source": [
    "X_train.info()\n"
   ]
  },
  {
   "cell_type": "code",
   "execution_count": 125,
   "id": "e73a8bd3",
   "metadata": {},
   "outputs": [
    {
     "name": "stdout",
     "output_type": "stream",
     "text": [
      "{'HeartDisease': 1, 'BMI': 16.6, 'Smoking': 0, 'AlcoholDrinking': 0, 'Stroke': 0, 'PhysicalHealth': 3.0, 'MentalHealth': 30.0, 'DiffWalking': 0, 'Sex': 0, 'AgeCategory': 4, 'Diabetic': 0, 'PhysicalActivity': 1, 'GenHealth': 2, 'Race': 'White', 'SleepTime': 5.0, 'Asthma': 0, 'KidneyDisease': 0, 'SkinCancer': 1}\n",
      "   HeartDisease   BMI  Smoking  AlcoholDrinking  Stroke  PhysicalHealth  \\\n",
      "0             1  16.6        0                0       0             3.0   \n",
      "\n",
      "   MentalHealth  DiffWalking  Sex  AgeCategory   Race  Diabetic  \\\n",
      "0          30.0            0    0            4  White         0   \n",
      "\n",
      "   PhysicalActivity  GenHealth  SleepTime  Asthma  KidneyDisease  SkinCancer  \n",
      "0                 1          2        5.0       0              0           1  \n"
     ]
    }
   ],
   "source": [
    "data={\n",
    "    \"HeartDisease\":1,\n",
    "    \"BMI\":16.60,\n",
    "    \"Smoking\":0,\n",
    "    \"AlcoholDrinking\":0,\n",
    "    \"Stroke\":0,\n",
    "    \"PhysicalHealth\":3.0,\n",
    "    \"MentalHealth\":30.0,\n",
    "    \"DiffWalking\":0,\n",
    "    \"Sex\":0,\n",
    "    \"AgeCategory\":4,\n",
    "    \"Diabetic\":0,\n",
    "    \"PhysicalActivity\":1,\n",
    "    \"GenHealth\":2,\n",
    "    \"Race\":\"White\",\n",
    "    \"SleepTime\":5.0,\n",
    "    \"Asthma\":0,\n",
    "    \"KidneyDisease\":0,\n",
    "    \"SkinCancer\":1,\n",
    "    \n",
    "    }\n",
    "\n",
    "print(data)\n",
    "test_df = pd.DataFrame(data, columns=['HeartDisease',\"BMI\", 'Smoking', 'AlcoholDrinking', 'Stroke',\n",
    "                                      'PhysicalHealth', 'MentalHealth', 'DiffWalking', 'Sex', 'AgeCategory',\n",
    "                                      'Race', 'Diabetic', 'PhysicalActivity', 'GenHealth', 'SleepTime',\n",
    "                                      'Asthma', 'KidneyDisease', 'SkinCancer'],index=[0])\n",
    "print(test_df)\n",
    "\n",
    "\n"
   ]
  },
  {
   "cell_type": "code",
   "execution_count": 115,
   "id": "867571af",
   "metadata": {},
   "outputs": [
    {
     "data": {
      "text/plain": [
       "141312    0\n",
       "Name: HeartDisease, dtype: int64"
      ]
     },
     "execution_count": 115,
     "metadata": {},
     "output_type": "execute_result"
    }
   ],
   "source": [
    "y_test[:1]"
   ]
  },
  {
   "cell_type": "code",
   "execution_count": 105,
   "id": "a0812167",
   "metadata": {},
   "outputs": [],
   "source": [
    "def evaluate_model(model, x_test, y_test):\n",
    "    from sklearn import metrics\n",
    "\n",
    "    # Predict Test Data\n",
    "    y_pred = model.predict(x_test)\n",
    "\n",
    "    # Calculate accuracy, precision, recall, f1-score, and kappa score\n",
    "    acc = metrics.accuracy_score(y_test, y_pred)\n",
    "    prec = metrics.precision_score(y_test, y_pred)\n",
    "    rec = metrics.recall_score(y_test, y_pred)\n",
    "    f1 = metrics.f1_score(y_test, y_pred)\n",
    "    kappa = metrics.cohen_kappa_score(y_test, y_pred)\n",
    "\n",
    "    # Calculate area under curve (AUC)\n",
    "    y_pred_proba = model.predict_proba(x_test)[::, 1]\n",
    "    fpr, tpr, _ = metrics.roc_curve(y_test, y_pred_proba)\n",
    "    auc = metrics.roc_auc_score(y_test, y_pred_proba)\n",
    "\n",
    "    # Display confussion matrix\n",
    "    cm = metrics.confusion_matrix(y_test, y_pred)\n",
    "\n",
    "    return {'acc': acc, 'prec': prec, 'rec': rec, 'f1': f1, 'kappa': kappa,\n",
    "            'fpr': fpr, 'tpr': tpr, 'auc': auc, 'cm': cm}\n"
   ]
  },
  {
   "cell_type": "code",
   "execution_count": 112,
   "id": "0abf7ac0",
   "metadata": {},
   "outputs": [
    {
     "name": "stdout",
     "output_type": "stream",
     "text": [
      "Accuracy: 0.8644444096999641\n",
      "Precision: 0.2243502051983584\n",
      "Recall: 0.24091076019096586\n",
      "F1 Score: 0.23233575349743227\n",
      "Cohens Kappa Score: 0.15809757477087483\n",
      "Area Under Curve: 0.5823131974545628\n",
      "Confusion Matrix:\n",
      " [[53977  4536]\n",
      " [ 4134  1312]]\n",
      "[0]\n"
     ]
    },
    {
     "name": "stderr",
     "output_type": "stream",
     "text": [
      "d:\\7th sem\\Major\\RUFine\\diabetes\\venv\\lib\\site-packages\\sklearn\\base.py:450: UserWarning: X does not have valid feature names, but DecisionTreeClassifier was fitted with feature names\n",
      "  warnings.warn(\n"
     ]
    }
   ],
   "source": [
    "clf = tree.DecisionTreeClassifier(random_state=0)\n",
    "clf.fit(X_train, y_train)\n",
    "\n",
    "# Evaluate Model\n",
    "clf_eval = evaluate_model(clf, X_test, y_test)\n",
    "\n",
    "# Print result\n",
    "print('Accuracy:', clf_eval['acc'])\n",
    "print('Precision:', clf_eval['prec'])\n",
    "print('Recall:', clf_eval['rec'])\n",
    "print('F1 Score:', clf_eval['f1'])\n",
    "print('Cohens Kappa Score:', clf_eval['kappa'])\n",
    "print('Area Under Curve:', clf_eval['auc'])\n",
    "print('Confusion Matrix:\\n', clf_eval['cm'])\n",
    "\n"
   ]
  },
  {
   "cell_type": "code",
   "execution_count": 113,
   "id": "67f6cb6b",
   "metadata": {},
   "outputs": [
    {
     "name": "stdout",
     "output_type": "stream",
     "text": [
      "[0]\n"
     ]
    },
    {
     "name": "stderr",
     "output_type": "stream",
     "text": [
      "d:\\7th sem\\Major\\RUFine\\diabetes\\venv\\lib\\site-packages\\sklearn\\base.py:450: UserWarning: X does not have valid feature names, but DecisionTreeClassifier was fitted with feature names\n",
      "  warnings.warn(\n"
     ]
    }
   ],
   "source": [
    "print(clf.predict([[31.32,\t1,\t0,\t0,\t0,\t0,\t0,\t0,\t7,\t0, 1,\t3,\t6.0,\t0,\t0,\t0]]))\n"
   ]
  },
  {
   "cell_type": "code",
   "execution_count": 35,
   "id": "e233ed25",
   "metadata": {
    "execution": {
     "iopub.execute_input": "2022-06-03T12:53:27.939081Z",
     "iopub.status.busy": "2022-06-03T12:53:27.935980Z",
     "iopub.status.idle": "2022-06-03T12:53:29.192619Z",
     "shell.execute_reply": "2022-06-03T12:53:29.192038Z",
     "shell.execute_reply.started": "2022-06-03T12:23:37.750557Z"
    },
    "papermill": {
     "duration": 1.334562,
     "end_time": "2022-06-03T12:53:29.192804",
     "exception": false,
     "start_time": "2022-06-03T12:53:27.858242",
     "status": "completed"
    },
    "tags": []
   },
   "outputs": [
    {
     "name": "stderr",
     "output_type": "stream",
     "text": [
      "d:\\7th sem\\Major\\RUFine\\diabetes\\venv\\lib\\site-packages\\sklearn\\utils\\deprecation.py:87: FutureWarning: Function get_feature_names is deprecated; get_feature_names is deprecated in 1.0 and will be removed in 1.2. Please use get_feature_names_out instead.\n",
      "  warnings.warn(msg, category=FutureWarning)\n",
      "d:\\7th sem\\Major\\RUFine\\diabetes\\venv\\lib\\site-packages\\sklearn\\utils\\deprecation.py:87: FutureWarning: Function get_feature_names is deprecated; get_feature_names is deprecated in 1.0 and will be removed in 1.2. Please use get_feature_names_out instead.\n",
      "  warnings.warn(msg, category=FutureWarning)\n"
     ]
    }
   ],
   "source": [
    "transformer = make_column_transformer(\n",
    "    (OneHotEncoder(sparse=False), ['AgeCategory', 'Race', 'GenHealth']),\n",
    "    remainder='passthrough')\n",
    "\n",
    "# Encode training data \n",
    "transformed_train = transformer.fit_transform(X_train)\n",
    "transformed_train_data = pd.DataFrame(transformed_train, columns=transformer.get_feature_names())\n",
    "\n",
    "# Concat the two tables\n",
    "transformed_train_data.reset_index(drop=True, inplace=True)\n",
    "X_train.reset_index(drop=True, inplace=True)\n",
    "X_train = pd.concat([transformed_train_data, X_train], axis=1)\n",
    "\n",
    "# Remove old columns\n",
    "X_train.drop(['AgeCategory', 'Race', 'GenHealth'], axis = 1, inplace = True)\n",
    "\n",
    "\n",
    "\n",
    "# Encode test data \n",
    "transformed_test = transformer.fit_transform(X_test)\n",
    "transformed_test_data = pd.DataFrame(transformed_test, columns=transformer.get_feature_names())\n",
    "\n",
    "# Concat the two tables\n",
    "transformed_test_data.reset_index(drop=True, inplace=True)\n",
    "X_test.reset_index(drop=True, inplace=True)\n",
    "X_test = pd.concat([transformed_test_data, X_test], axis=1)\n",
    "\n",
    "\n",
    "# Remove old columns\n",
    "X_test.drop(['AgeCategory', 'Race', 'GenHealth'], axis = 1, inplace = True)\n"
   ]
  },
  {
   "cell_type": "markdown",
   "id": "99f4c1b7",
   "metadata": {
    "papermill": {
     "duration": 0.067409,
     "end_time": "2022-06-03T12:53:29.328253",
     "exception": false,
     "start_time": "2022-06-03T12:53:29.260844",
     "status": "completed"
    },
    "tags": []
   },
   "source": [
    "<div style=\"color:white;display:fill;border-radius:8px;\n",
    "            background-color:#363c40de;font-size:150%;\n",
    "            font-family:Nexa;letter-spacing:0.5px\">\n",
    "    <p style=\"padding: 8px\n",
    ";color:white;\"><b>7.1 | standardization</b></p>\n",
    "</div>. "
   ]
  },
  {
   "cell_type": "code",
   "execution_count": 36,
   "id": "c663c125",
   "metadata": {},
   "outputs": [
    {
     "data": {
      "text/plain": [
       "(255836, 52)"
      ]
     },
     "execution_count": 36,
     "metadata": {},
     "output_type": "execute_result"
    }
   ],
   "source": [
    "X_train.shape"
   ]
  },
  {
   "cell_type": "code",
   "execution_count": 14,
   "id": "0bdd71bb",
   "metadata": {
    "execution": {
     "iopub.execute_input": "2022-06-03T12:53:29.472788Z",
     "iopub.status.busy": "2022-06-03T12:53:29.472141Z",
     "iopub.status.idle": "2022-06-03T12:53:30.020894Z",
     "shell.execute_reply": "2022-06-03T12:53:30.020277Z",
     "shell.execute_reply.started": "2022-06-03T12:23:38.621124Z"
    },
    "papermill": {
     "duration": 0.623821,
     "end_time": "2022-06-03T12:53:30.021070",
     "exception": false,
     "start_time": "2022-06-03T12:53:29.397249",
     "status": "completed"
    },
    "tags": []
   },
   "outputs": [],
   "source": [
    "scaler = StandardScaler()\n",
    "\n",
    "# Scale trainint data\n",
    "X_train = scaler.fit_transform(X_train)\n",
    "\n",
    "# Scale test data\n",
    "X_test = scaler.fit_transform(X_test)\n"
   ]
  },
  {
   "cell_type": "markdown",
   "id": "ccf68521",
   "metadata": {
    "papermill": {
     "duration": 0.068336,
     "end_time": "2022-06-03T12:53:30.157864",
     "exception": false,
     "start_time": "2022-06-03T12:53:30.089528",
     "status": "completed"
    },
    "tags": []
   },
   "source": [
    "# <b>9<span style='color:#0386f7de'>|</span> Modelling</b>"
   ]
  },
  {
   "cell_type": "code",
   "execution_count": 104,
   "id": "ae4e929a",
   "metadata": {
    "execution": {
     "iopub.execute_input": "2022-06-03T12:53:30.302272Z",
     "iopub.status.busy": "2022-06-03T12:53:30.301599Z",
     "iopub.status.idle": "2022-06-03T12:53:30.304374Z",
     "shell.execute_reply": "2022-06-03T12:53:30.303765Z",
     "shell.execute_reply.started": "2022-06-03T12:23:39.04375Z"
    },
    "papermill": {
     "duration": 0.078852,
     "end_time": "2022-06-03T12:53:30.304507",
     "exception": false,
     "start_time": "2022-06-03T12:53:30.225655",
     "status": "completed"
    },
    "tags": []
   },
   "outputs": [],
   "source": [
    "def evaluate_model(model, x_test, y_test):\n",
    "    from sklearn import metrics\n",
    "\n",
    "    # Predict Test Data \n",
    "    y_pred = model.predict(x_test)\n",
    "\n",
    "    # Calculate accuracy, precision, recall, f1-score, and kappa score\n",
    "    acc = metrics.accuracy_score(y_test, y_pred)\n",
    "    prec = metrics.precision_score(y_test, y_pred)\n",
    "    rec = metrics.recall_score(y_test, y_pred)\n",
    "    f1 = metrics.f1_score(y_test, y_pred)\n",
    "    kappa = metrics.cohen_kappa_score(y_test, y_pred)\n",
    "\n",
    "    # Calculate area under curve (AUC)\n",
    "    y_pred_proba = model.predict_proba(x_test)[::,1]\n",
    "    fpr, tpr, _ = metrics.roc_curve(y_test, y_pred_proba)\n",
    "    auc = metrics.roc_auc_score(y_test, y_pred_proba)\n",
    "\n",
    "    # Display confussion matrix\n",
    "    cm = metrics.confusion_matrix(y_test, y_pred)\n",
    "\n",
    "    return {'acc': acc, 'prec': prec, 'rec': rec, 'f1': f1, 'kappa': kappa, \n",
    "            'fpr': fpr, 'tpr': tpr, 'auc': auc, 'cm': cm}"
   ]
  },
  {
   "cell_type": "markdown",
   "id": "d1269525",
   "metadata": {
    "papermill": {
     "duration": 0.067225,
     "end_time": "2022-06-03T12:53:30.439358",
     "exception": false,
     "start_time": "2022-06-03T12:53:30.372133",
     "status": "completed"
    },
    "tags": []
   },
   "source": [
    "<div style=\"color:white;display:fill;border-radius:8px;\n",
    "            background-color:#363c40de;font-size:150%;\n",
    "            font-family:Nexa;letter-spacing:0.5px\">\n",
    "    <p style=\"padding: 8px\n",
    ";color:white;\"><b>9.1 | Building Model</b></p>\n",
    "</div>. "
   ]
  },
  {
   "cell_type": "code",
   "execution_count": 122,
   "id": "60dc63c9",
   "metadata": {
    "execution": {
     "iopub.execute_input": "2022-06-03T12:53:30.581756Z",
     "iopub.status.busy": "2022-06-03T12:53:30.580899Z",
     "iopub.status.idle": "2022-06-03T12:53:30.584778Z",
     "shell.execute_reply": "2022-06-03T12:53:30.584286Z",
     "shell.execute_reply.started": "2022-06-03T12:51:49.343182Z"
    },
    "papermill": {
     "duration": 0.077842,
     "end_time": "2022-06-03T12:53:30.584915",
     "exception": false,
     "start_time": "2022-06-03T12:53:30.507073",
     "status": "completed"
    },
    "tags": []
   },
   "outputs": [
    {
     "data": {
      "text/plain": [
       "Index(['BMI', 'Smoking', 'AlcoholDrinking', 'Stroke', 'PhysicalHealth',\n",
       "       'MentalHealth', 'DiffWalking', 'Sex', 'AgeCategory', 'Diabetic',\n",
       "       'PhysicalActivity', 'GenHealth', 'SleepTime', 'Asthma', 'KidneyDisease',\n",
       "       'SkinCancer'],\n",
       "      dtype='object')"
      ]
     },
     "execution_count": 122,
     "metadata": {},
     "output_type": "execute_result"
    }
   ],
   "source": []
  },
  {
   "cell_type": "code",
   "execution_count": 116,
   "id": "cd174f56",
   "metadata": {
    "execution": {
     "iopub.execute_input": "2022-06-03T12:53:30.731777Z",
     "iopub.status.busy": "2022-06-03T12:53:30.730504Z",
     "iopub.status.idle": "2022-06-03T13:54:23.666828Z",
     "shell.execute_reply": "2022-06-03T13:54:23.667412Z"
    },
    "papermill": {
     "duration": 3653.014321,
     "end_time": "2022-06-03T13:54:23.667598",
     "exception": false,
     "start_time": "2022-06-03T12:53:30.653277",
     "status": "completed"
    },
    "tags": []
   },
   "outputs": [
    {
     "name": "stdout",
     "output_type": "stream",
     "text": [
      "Accuracy: 0.9070341937803905\n",
      "Precision: 0.318577648766328\n",
      "Recall: 0.08060962174072714\n",
      "F1 Score: 0.1286635404454865\n",
      "Cohens Kappa Score: 0.09763225766160333\n",
      "Area Under Curve: 0.6876822288563124\n",
      "Confusion Matrix:\n",
      " [[57574   939]\n",
      " [ 5007   439]]\n"
     ]
    }
   ],
   "source": [
    "# Building a model using KNeighborsClassifier \n",
    "knn = KNeighborsClassifier(n_neighbors = 5)\n",
    "\n",
    "knn.fit(X_train, y_train)\n",
    "\n",
    "\n",
    "# Evaluate Model\n",
    "knn_eval = evaluate_model(knn, X_test, y_test)\n",
    "\n",
    "# Print result\n",
    "print('Accuracy:', knn_eval['acc'])\n",
    "print('Precision:', knn_eval['prec'])\n",
    "print('Recall:', knn_eval['rec'])\n",
    "print('F1 Score:', knn_eval['f1'])\n",
    "print('Cohens Kappa Score:', knn_eval['kappa'])\n",
    "print('Area Under Curve:', knn_eval['auc'])\n",
    "print('Confusion Matrix:\\n', knn_eval['cm'])"
   ]
  },
  {
   "cell_type": "code",
   "execution_count": 117,
   "id": "f4e762fb",
   "metadata": {},
   "outputs": [],
   "source": [
    "import pickle\n",
    "\n",
    "filename = 'final_knn_model.pkl'\n",
    "pickle.dump(knn, open(filename, 'wb'))"
   ]
  },
  {
   "cell_type": "code",
   "execution_count": 118,
   "id": "15f648bd",
   "metadata": {},
   "outputs": [],
   "source": [
    "model1 = pickle.load(open('final_knn_model.pkl', 'rb'))"
   ]
  },
  {
   "cell_type": "code",
   "execution_count": 123,
   "metadata": {},
   "outputs": [
    {
     "data": {
      "text/plain": [
       "Index(['BMI', 'Smoking', 'AlcoholDrinking', 'Stroke', 'PhysicalHealth',\n",
       "       'MentalHealth', 'DiffWalking', 'Sex', 'AgeCategory', 'Diabetic',\n",
       "       'PhysicalActivity', 'GenHealth', 'SleepTime', 'Asthma', 'KidneyDisease',\n",
       "       'SkinCancer'],\n",
       "      dtype='object')"
      ]
     },
     "execution_count": 123,
     "metadata": {},
     "output_type": "execute_result"
    }
   ],
   "source": [
    "X_train.columns\n"
   ]
  },
  {
   "cell_type": "code",
   "execution_count": 127,
   "id": "b1a0b0c9",
   "metadata": {},
   "outputs": [
    {
     "name": "stdout",
     "output_type": "stream",
     "text": [
      "[1. 0.]\n"
     ]
    },
    {
     "name": "stderr",
     "output_type": "stream",
     "text": [
      "d:\\7th sem\\Major\\RUFine\\diabetes\\venv\\lib\\site-packages\\sklearn\\base.py:450: UserWarning: X does not have valid feature names, but KNeighborsClassifier was fitted with feature names\n",
      "  warnings.warn(\n"
     ]
    }
   ],
   "source": [
    "print(model1.predict_proba(\n",
    "    [[data[\"BMI\"],\tdata[\"Smoking\"],\tdata[\"AlcoholDrinking\"],\tdata[\"Stroke\"],\tdata[\"PhysicalHealth\"],\tdata[\"MentalHealth\"],\tdata[\"DiffWalking\"],\n",
    "    \tdata[\"Sex\"],\tdata[\"AgeCategory\"],\tdata[\"Diabetic\"], data[\n",
    "    \t    \"PhysicalActivity\"],\tdata[\"GenHealth\"],\tdata[\"SleepTime\"],\tdata[\"Asthma\"],\n",
    "        data[\"KidneyDisease\"],\tdata[\"SkinCancer\"]]])[0])\n"
   ]
  },
  {
   "cell_type": "code",
   "execution_count": 19,
   "id": "bf2aefb4",
   "metadata": {
    "execution": {
     "iopub.execute_input": "2022-06-03T13:54:23.817301Z",
     "iopub.status.busy": "2022-06-03T13:54:23.816539Z",
     "iopub.status.idle": "2022-06-03T13:54:28.490993Z",
     "shell.execute_reply": "2022-06-03T13:54:28.490150Z",
     "shell.execute_reply.started": "2022-06-03T12:47:38.588053Z"
    },
    "papermill": {
     "duration": 4.753734,
     "end_time": "2022-06-03T13:54:28.491209",
     "exception": false,
     "start_time": "2022-06-03T13:54:23.737475",
     "status": "completed"
    },
    "tags": []
   },
   "outputs": [
    {
     "name": "stdout",
     "output_type": "stream",
     "text": [
      "Accuracy: 0.8646945699588799\n",
      "Precision: 0.232220367278798\n",
      "Recall: 0.25541681968417185\n",
      "F1 Score: 0.2432668765302553\n",
      "Cohens Kappa Score: 0.1691567154170338\n",
      "Area Under Curve: 0.589573855978808\n",
      "Confusion Matrix:\n",
      " [[53914  4599]\n",
      " [ 4055  1391]]\n"
     ]
    }
   ],
   "source": [
    "\n",
    "# Building Decision Tree model \n",
    "clf = tree.DecisionTreeClassifier(random_state=0)\n",
    "clf.fit(X_train, y_train)\n",
    "\n",
    "# Evaluate Model\n",
    "clf_eval = evaluate_model(clf, X_test, y_test)\n",
    "\n",
    "# Print result\n",
    "print('Accuracy:', clf_eval['acc'])\n",
    "print('Precision:', clf_eval['prec'])\n",
    "print('Recall:', clf_eval['rec'])\n",
    "print('F1 Score:', clf_eval['f1'])\n",
    "print('Cohens Kappa Score:', clf_eval['kappa'])\n",
    "print('Area Under Curve:', clf_eval['auc'])\n",
    "print('Confusion Matrix:\\n', clf_eval['cm'])# Evaluate Model"
   ]
  },
  {
   "cell_type": "code",
   "execution_count": 20,
   "id": "67f935d7",
   "metadata": {},
   "outputs": [],
   "source": [
    "filename = 'final_clf_model.pkl'\n",
    "pickle.dump(clf, open(filename, 'wb'))\n"
   ]
  },
  {
   "cell_type": "code",
   "execution_count": 23,
   "id": "2df8d757",
   "metadata": {},
   "outputs": [
    {
     "data": {
      "text/plain": [
       "array([-0.26549634, -0.23664263, -0.25032481, -0.26108269, -0.26536134,\n",
       "        3.69825223, -0.29379506, -0.3203179 , -0.34299642, -0.34618365,\n",
       "       -0.3279389 , -0.26749845, -0.28628706, -0.12970784, -0.16066786,\n",
       "       -0.27838661, -0.30613429, -0.18831638,  0.55204453, -0.51359598,\n",
       "       -0.34860717, -0.64175066, -0.19139917,  1.34536057,  0.40438784,\n",
       "       -0.83840809,  3.70087306, -0.19861298, -0.4234397 , -0.48982243,\n",
       "       -0.40148642, -0.95368922, -0.39633881,  0.5383382 ,  1.32889385,\n",
       "       -0.39281938, -0.19512091, -0.32147374,  0.40438784, -0.83840809,\n",
       "        3.70087306, -0.19861298, -0.4234397 , -0.48982243, -0.40148642,\n",
       "       -0.95368922, -0.39633881,  0.5383382 ,  1.32889385, -0.39281938,\n",
       "       -0.19512091, -0.32147374])"
      ]
     },
     "execution_count": 23,
     "metadata": {},
     "output_type": "execute_result"
    }
   ],
   "source": [
    "X_train[0]"
   ]
  },
  {
   "cell_type": "code",
   "execution_count": null,
   "id": "3ff0fecb",
   "metadata": {},
   "outputs": [],
   "source": [
    "def predictHeart():\n",
    "    "
   ]
  },
  {
   "cell_type": "markdown",
   "id": "a60dec38",
   "metadata": {
    "papermill": {
     "duration": 0.077428,
     "end_time": "2022-06-03T13:54:28.643040",
     "exception": false,
     "start_time": "2022-06-03T13:54:28.565612",
     "status": "completed"
    },
    "tags": []
   },
   "source": [
    "# <b>10<span style='color:#0386f7de'>|</span> Comparison</b>"
   ]
  },
  {
   "cell_type": "code",
   "execution_count": 21,
   "id": "081b7020",
   "metadata": {
    "execution": {
     "iopub.execute_input": "2022-06-03T13:54:28.819068Z",
     "iopub.status.busy": "2022-06-03T13:54:28.818316Z",
     "iopub.status.idle": "2022-06-03T13:54:29.270196Z",
     "shell.execute_reply": "2022-06-03T13:54:29.270710Z",
     "shell.execute_reply.started": "2022-06-03T12:47:38.589597Z"
    },
    "papermill": {
     "duration": 0.551293,
     "end_time": "2022-06-03T13:54:29.270892",
     "exception": false,
     "start_time": "2022-06-03T13:54:28.719599",
     "status": "completed"
    },
    "tags": []
   },
   "outputs": [
    {
     "data": {
      "image/png": "[encoded data removed]",
      "text/plain": [
       "<Figure size 1008x504 with 2 Axes>"
      ]
     },
     "metadata": {},
     "output_type": "display_data"
    }
   ],
   "source": [
    "# Intitialize figure with two plots\n",
    "fig, (ax1, ax2) = plt.subplots(1, 2)\n",
    "fig.suptitle('Model Comparison', fontsize=16, fontweight='bold')\n",
    "fig.set_figheight(7)\n",
    "fig.set_figwidth(14)\n",
    "fig.set_facecolor('white')\n",
    "\n",
    "# First plot\n",
    "## set bar size\n",
    "barWidth = 0.2\n",
    "clf_score = [clf_eval['acc'], clf_eval['prec'], clf_eval['rec'], clf_eval['f1'], clf_eval['kappa']]\n",
    "knn_score = [knn_eval['acc'], knn_eval['prec'], knn_eval['rec'], knn_eval['f1'], knn_eval['kappa']]\n",
    "\n",
    "\n",
    "## Set position of bar on X axis\n",
    "r1 = np.arange(len(clf_score))\n",
    "r2 = [x + barWidth for x in r1]\n",
    "\n",
    "## Make the plot\n",
    "ax1.bar(r1, clf_score, width=barWidth, edgecolor='white', label='Decision Tree')\n",
    "ax1.bar(r2, knn_score, width=barWidth, edgecolor='white', label='K-Nearest Neighbors')\n",
    "\n",
    "## Configure x and y axis\n",
    "ax1.set_xlabel('Metrics', fontweight='bold')\n",
    "labels = ['Accuracy', 'Precision', 'Recall', 'F1', 'Kappa']\n",
    "ax1.set_xticks([r + (barWidth * 1.5) for r in range(len(clf_score))], )\n",
    "ax1.set_xticklabels(labels)\n",
    "ax1.set_ylabel('Score', fontweight='bold')\n",
    "ax1.set_ylim(0, 1)\n",
    "\n",
    "## Create legend & title\n",
    "ax1.set_title('Evaluation Metrics', fontsize=14, fontweight='bold')\n",
    "ax1.legend()\n",
    "\n",
    "# Second plot\n",
    "## Comparing ROC Curve\n",
    "ax2.plot(clf_eval['fpr'], clf_eval['tpr'], label='Decision Tree, auc = {:0.5f}'.format(clf_eval['auc']))\n",
    "ax2.plot(knn_eval['fpr'], knn_eval['tpr'], label='K-Nearest Nieghbor, auc = {:0.5f}'.format(knn_eval['auc']))\n",
    "\n",
    "## Configure x and y axis\n",
    "ax2.set_xlabel('False Positive Rate', fontweight='bold')\n",
    "ax2.set_ylabel('True Positive Rate', fontweight='bold')\n",
    "\n",
    "## Create legend & title\n",
    "ax2.set_title('ROC Curve', fontsize=14, fontweight='bold')\n",
    "ax2.legend(loc=4)\n",
    "\n",
    "plt.show()"
   ]
  },
  {
   "cell_type": "code",
   "execution_count": null,
   "id": "2f3ee98c",
   "metadata": {},
   "outputs": [],
   "source": []
  }
 ],
 "metadata": {
  "interpreter": {
   "hash": "2594b3756c513fd33ff046dcb1b991545997eb8d85c516581e465e86ba941181"
  },
  "kernelspec": {
   "display_name": "Python 3.9.5 ('venv': venv)",
   "language": "python",
   "name": "python3"
  },
  "language_info": {
   "codemirror_mode": {
    "name": "ipython",
    "version": 3
   },
   "file_extension": ".py",
   "mimetype": "text/x-python",
   "name": "python",
   "nbconvert_exporter": "python",
   "pygments_lexer": "ipython3",
   "version": "3.9.5"
  },
  "papermill": {
   "default_parameters": {},
   "duration": 3696.444917,
   "end_time": "2022-06-03T13:54:30.366172",
   "environment_variables": {},
   "exception": null,
   "input_path": "__notebook__.ipynb",
   "output_path": "__notebook__.ipynb",
   "parameters": {},
   "start_time": "2022-06-03T12:52:53.921255",
   "version": "2.3.3"
  }
 },
 "nbformat": 4,
 "nbformat_minor": 5
}
