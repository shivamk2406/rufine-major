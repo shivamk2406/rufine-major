{
  "cells": [
    {
      "cell_type": "code",
      "execution_count": 8,
      "metadata": {
        "id": "kJ_JeRDa1Blr"
      },
      "outputs": [],
      "source": [
        "import numpy as np\n",
        "import pandas as pd\n",
        "import matplotlib.pyplot as plt\n",
        "import seaborn as sns\n",
        "%matplotlib inline"
      ]
    },
    {
      "cell_type": "code",
      "execution_count": 9,
      "metadata": {
        "id": "pv44FjD71DGK"
      },
      "outputs": [],
      "source": [
        "df=pd.read_csv('diabetes.csv')"
      ]
    },
    {
      "cell_type": "code",
      "execution_count": 11,
      "metadata": {
        "colab": {
          "base_uri": "https://localhost:8080/"
        },
        "id": "aoP97A3_1dI1",
        "outputId": "1c2e03a5-8d8b-4622-bb43-7714815c0f15"
      },
      "outputs": [],
      "source": [
        "top_age = df.Age.value_counts().head(15)"
      ]
    },
    {
      "cell_type": "code",
      "execution_count": 12,
      "metadata": {
        "colab": {
          "base_uri": "https://localhost:8080/"
        },
        "id": "grHpxRw_1oi7",
        "outputId": "5d6f6788-273a-4a00-e98c-4b13ade60dec"
      },
      "outputs": [],
      "source": [
        "outcome_counts = df.Outcome.value_counts()"
      ]
    },
    {
      "cell_type": "code",
      "execution_count": 13,
      "metadata": {
        "colab": {
          "base_uri": "https://localhost:8080/",
          "height": 655
        },
        "id": "lVHMzYwH1tlE",
        "outputId": "12dfa0e2-93fa-47d5-bb63-b97827dfa02e"
      },
      "outputs": [],
      "source": [
        "y=df.drop(df.iloc[:,0:-1],axis=1)"
      ]
    },
    {
      "cell_type": "code",
      "execution_count": 14,
      "metadata": {
        "id": "_lAP0XCg1wNj"
      },
      "outputs": [
        {
          "name": "stderr",
          "output_type": "stream",
          "text": [
            "C:\\Users\\iamre\\AppData\\Local\\Temp\\ipykernel_8664\\2521592422.py:2: FutureWarning: In a future version of pandas all arguments of DataFrame.drop except for the argument 'labels' will be keyword-only.\n",
            "  x=x.drop('Pregnancies',1)\n"
          ]
        }
      ],
      "source": [
        "x=df.iloc[:,:-1]\n",
        "x=x.drop('Pregnancies',1)"
      ]
    },
    {
      "cell_type": "code",
      "execution_count": 16,
      "metadata": {
        "id": "VdMEcgTE17gh"
      },
      "outputs": [],
      "source": [
        "from sklearn.model_selection import train_test_split"
      ]
    },
    {
      "cell_type": "code",
      "execution_count": 17,
      "metadata": {
        "colab": {
          "base_uri": "https://localhost:8080/",
          "height": 81
        },
        "id": "TtrGsvXT1_Z3",
        "outputId": "08d38254-514d-413f-d773-fd7092690b81"
      },
      "outputs": [
        {
          "data": {
            "text/html": [
              "<div>\n",
              "<style scoped>\n",
              "    .dataframe tbody tr th:only-of-type {\n",
              "        vertical-align: middle;\n",
              "    }\n",
              "\n",
              "    .dataframe tbody tr th {\n",
              "        vertical-align: top;\n",
              "    }\n",
              "\n",
              "    .dataframe thead th {\n",
              "        text-align: right;\n",
              "    }\n",
              "</style>\n",
              "<table border=\"1\" class=\"dataframe\">\n",
              "  <thead>\n",
              "    <tr style=\"text-align: right;\">\n",
              "      <th></th>\n",
              "      <th>Glucose</th>\n",
              "      <th>BloodPressure</th>\n",
              "      <th>SkinThickness</th>\n",
              "      <th>Insulin</th>\n",
              "      <th>BMI</th>\n",
              "      <th>DiabetesPedigreeFunction</th>\n",
              "      <th>Age</th>\n",
              "    </tr>\n",
              "  </thead>\n",
              "  <tbody>\n",
              "    <tr>\n",
              "      <th>353</th>\n",
              "      <td>90</td>\n",
              "      <td>62</td>\n",
              "      <td>12</td>\n",
              "      <td>43</td>\n",
              "      <td>27.2</td>\n",
              "      <td>0.58</td>\n",
              "      <td>24</td>\n",
              "    </tr>\n",
              "  </tbody>\n",
              "</table>\n",
              "</div>"
            ],
            "text/plain": [
              "     Glucose  BloodPressure  SkinThickness  Insulin   BMI  \\\n",
              "353       90             62             12       43  27.2   \n",
              "\n",
              "     DiabetesPedigreeFunction  Age  \n",
              "353                      0.58   24  "
            ]
          },
          "execution_count": 17,
          "metadata": {},
          "output_type": "execute_result"
        }
      ],
      "source": [
        "xtrain,xtest,ytrain,ytest=train_test_split(x,y, test_size=0.25,random_state=7)\n",
        "xtest.iloc[0:1,:]"
      ]
    },
    {
      "cell_type": "code",
      "execution_count": 18,
      "metadata": {
        "id": "k_HDTMZV2BeF"
      },
      "outputs": [],
      "source": [
        "from sklearn.linear_model import LogisticRegression\n",
        "from sklearn.metrics import confusion_matrix\n",
        "from sklearn import metrics"
      ]
    },
    {
      "cell_type": "code",
      "execution_count": 19,
      "metadata": {
        "colab": {
          "base_uri": "https://localhost:8080/"
        },
        "id": "KfhLSCPO2XL0",
        "outputId": "b622f8c7-9af9-4984-b2ae-08703eb63ec3"
      },
      "outputs": [
        {
          "name": "stderr",
          "output_type": "stream",
          "text": [
            "d:\\7th sem\\Major\\RUFine\\diabetes\\venv\\lib\\site-packages\\sklearn\\utils\\validation.py:993: DataConversionWarning: A column-vector y was passed when a 1d array was expected. Please change the shape of y to (n_samples, ), for example using ravel().\n",
            "  y = column_or_1d(y, warn=True)\n",
            "d:\\7th sem\\Major\\RUFine\\diabetes\\venv\\lib\\site-packages\\sklearn\\linear_model\\_logistic.py:814: ConvergenceWarning: lbfgs failed to converge (status=1):\n",
            "STOP: TOTAL NO. of ITERATIONS REACHED LIMIT.\n",
            "\n",
            "Increase the number of iterations (max_iter) or scale the data as shown in:\n",
            "    https://scikit-learn.org/stable/modules/preprocessing.html\n",
            "Please also refer to the documentation for alternative solver options:\n",
            "    https://scikit-learn.org/stable/modules/linear_model.html#logistic-regression\n",
            "  n_iter_i = _check_optimize_result(\n"
          ]
        }
      ],
      "source": [
        "logreg=LogisticRegression()\n",
        "logreg.fit(xtrain,ytrain)\n",
        "pred1=logreg.predict(xtest)\n",
        "pred2=logreg.predict_proba(xtest)"
      ]
    },
    {
      "cell_type": "code",
      "execution_count": 29,
      "metadata": {},
      "outputs": [
        {
          "data": {
            "text/html": [
              "<div>\n",
              "<style scoped>\n",
              "    .dataframe tbody tr th:only-of-type {\n",
              "        vertical-align: middle;\n",
              "    }\n",
              "\n",
              "    .dataframe tbody tr th {\n",
              "        vertical-align: top;\n",
              "    }\n",
              "\n",
              "    .dataframe thead th {\n",
              "        text-align: right;\n",
              "    }\n",
              "</style>\n",
              "<table border=\"1\" class=\"dataframe\">\n",
              "  <thead>\n",
              "    <tr style=\"text-align: right;\">\n",
              "      <th></th>\n",
              "      <th>Glucose</th>\n",
              "      <th>BloodPressure</th>\n",
              "      <th>SkinThickness</th>\n",
              "      <th>Insulin</th>\n",
              "      <th>BMI</th>\n",
              "      <th>DiabetesPedigreeFunction</th>\n",
              "      <th>Age</th>\n",
              "    </tr>\n",
              "  </thead>\n",
              "  <tbody>\n",
              "    <tr>\n",
              "      <th>353</th>\n",
              "      <td>90</td>\n",
              "      <td>62</td>\n",
              "      <td>12</td>\n",
              "      <td>43</td>\n",
              "      <td>27.2</td>\n",
              "      <td>0.580</td>\n",
              "      <td>24</td>\n",
              "    </tr>\n",
              "    <tr>\n",
              "      <th>236</th>\n",
              "      <td>181</td>\n",
              "      <td>84</td>\n",
              "      <td>21</td>\n",
              "      <td>192</td>\n",
              "      <td>35.9</td>\n",
              "      <td>0.586</td>\n",
              "      <td>51</td>\n",
              "    </tr>\n",
              "    <tr>\n",
              "      <th>323</th>\n",
              "      <td>152</td>\n",
              "      <td>90</td>\n",
              "      <td>33</td>\n",
              "      <td>29</td>\n",
              "      <td>26.8</td>\n",
              "      <td>0.731</td>\n",
              "      <td>43</td>\n",
              "    </tr>\n",
              "    <tr>\n",
              "      <th>98</th>\n",
              "      <td>93</td>\n",
              "      <td>50</td>\n",
              "      <td>30</td>\n",
              "      <td>64</td>\n",
              "      <td>28.7</td>\n",
              "      <td>0.356</td>\n",
              "      <td>23</td>\n",
              "    </tr>\n",
              "    <tr>\n",
              "      <th>701</th>\n",
              "      <td>125</td>\n",
              "      <td>78</td>\n",
              "      <td>31</td>\n",
              "      <td>0</td>\n",
              "      <td>27.6</td>\n",
              "      <td>0.565</td>\n",
              "      <td>49</td>\n",
              "    </tr>\n",
              "  </tbody>\n",
              "</table>\n",
              "</div>"
            ],
            "text/plain": [
              "     Glucose  BloodPressure  SkinThickness  Insulin   BMI  \\\n",
              "353       90             62             12       43  27.2   \n",
              "236      181             84             21      192  35.9   \n",
              "323      152             90             33       29  26.8   \n",
              "98        93             50             30       64  28.7   \n",
              "701      125             78             31        0  27.6   \n",
              "\n",
              "     DiabetesPedigreeFunction  Age  \n",
              "353                     0.580   24  \n",
              "236                     0.586   51  \n",
              "323                     0.731   43  \n",
              "98                      0.356   23  \n",
              "701                     0.565   49  "
            ]
          },
          "execution_count": 29,
          "metadata": {},
          "output_type": "execute_result"
        }
      ],
      "source": [
        "xtest[:5]"
      ]
    },
    {
      "cell_type": "code",
      "execution_count": 21,
      "metadata": {
        "id": "6U8aFnF06iOm"
      },
      "outputs": [],
      "source": [
        "def level(p):\n",
        "  if(p>0 and p<=0.4):\n",
        "    print(\"Level = 0 No Risk\")\n",
        "  if(p>0.4 and p<=0.6):\n",
        "    print(\"Level = 1 Normal\")\n",
        "  if(p>0.6 and p<=0.8):\n",
        "    print(\"Level = 2 Boundary Line (Need Care)\")\n",
        "  if(p>0.8 and p<=1):\n",
        "    print(\"Level = 3 High Risk\")\n"
      ]
    },
    {
      "cell_type": "code",
      "execution_count": 30,
      "metadata": {
        "colab": {
          "base_uri": "https://localhost:8080/"
        },
        "id": "EQr01DVw8rfx",
        "outputId": "6fa178e8-ddc2-41e7-b1c2-d339d413307a"
      },
      "outputs": [
        {
          "name": "stdout",
          "output_type": "stream",
          "text": [
            "Level = 3 High Risk\n"
          ]
        },
        {
          "name": "stderr",
          "output_type": "stream",
          "text": [
            "d:\\7th sem\\Major\\RUFine\\diabetes\\venv\\lib\\site-packages\\sklearn\\base.py:450: UserWarning: X does not have valid feature names, but LogisticRegression was fitted with feature names\n",
            "  warnings.warn(\n"
          ]
        }
      ],
      "source": [
        "a = logreg.predict_proba([[32,43,23,22,33.6,1.332,50]])\n",
        "a=a.flatten()\n",
        "level(a[0])"
      ]
    },
    {
      "cell_type": "code",
      "execution_count": 23,
      "metadata": {
        "colab": {
          "base_uri": "https://localhost:8080/"
        },
        "id": "wTUhUcEI-uMw",
        "outputId": "cb8de967-e76e-4f22-b66a-32c1250ffae5"
      },
      "outputs": [
        {
          "data": {
            "text/plain": [
              "array([0.0853801 , 0.85491366, 0.51315978, 0.10010996, 0.37591778])"
            ]
          },
          "execution_count": 23,
          "metadata": {},
          "output_type": "execute_result"
        }
      ],
      "source": [
        "q=pred2[:,1]\n",
        "q[:5]"
      ]
    },
    {
      "cell_type": "code",
      "execution_count": 24,
      "metadata": {
        "id": "Iuq3fPZe_-dp"
      },
      "outputs": [],
      "source": [
        "def z(p):\n",
        "  for i in range(len(p)):\n",
        "    print(\"For person \"+ str(i+1) +\" \")\n",
        "    if(p[i]>0 and p[i]<=0.4):\n",
        "      print(\"Level = 0 No Risk\")\n",
        "    if(p[i]>0.4 and p[i]<=0.6):\n",
        "      print(\"Level = 1 Normal\")\n",
        "    if(p[i]>0.6 and p[i]<=0.8):\n",
        "      print(\"Level = 2 Boundary Line (Need Care)\")\n",
        "    if(p[i]>0.8 and p[i]<=1):\n",
        "      print(\"Level = 3 High Risk\")\n"
      ]
    },
    {
      "cell_type": "code",
      "execution_count": 28,
      "metadata": {
        "colab": {
          "base_uri": "https://localhost:8080/"
        },
        "id": "2_EsWcyB_mnZ",
        "outputId": "1c9ef1f3-424f-4069-9728-cd942fbe1ff7"
      },
      "outputs": [
        {
          "data": {
            "text/plain": [
              "array([[0.9146199 , 0.0853801 ],\n",
              "       [0.14508634, 0.85491366],\n",
              "       [0.48684022, 0.51315978],\n",
              "       [0.89989004, 0.10010996],\n",
              "       [0.62408222, 0.37591778]])"
            ]
          },
          "execution_count": 28,
          "metadata": {},
          "output_type": "execute_result"
        }
      ],
      "source": [
        "pred2[:5]"
      ]
    },
    {
      "cell_type": "code",
      "execution_count": 26,
      "metadata": {
        "colab": {
          "base_uri": "https://localhost:8080/"
        },
        "id": "WkWIDMJx8JtD",
        "outputId": "aa735169-c0c3-4c58-e143-b62bff6f9543"
      },
      "outputs": [
        {
          "name": "stdout",
          "output_type": "stream",
          "text": [
            "For person 1 \n",
            "Level = 0 No Risk\n",
            "For person 2 \n",
            "Level = 3 High Risk\n",
            "For person 3 \n",
            "Level = 1 Normal\n",
            "For person 4 \n",
            "Level = 0 No Risk\n",
            "For person 5 \n",
            "Level = 0 No Risk\n"
          ]
        }
      ],
      "source": [
        "z(q[:5]) "
      ]
    },
    {
      "cell_type": "code",
      "execution_count": null,
      "metadata": {},
      "outputs": [],
      "source": []
    }
  ],
  "metadata": {
    "colab": {
      "collapsed_sections": [],
      "name": "Diabetes.ipynb",
      "provenance": []
    },
    "interpreter": {
      "hash": "2594b3756c513fd33ff046dcb1b991545997eb8d85c516581e465e86ba941181"
    },
    "kernelspec": {
      "display_name": "Python 3.9.5 ('venv': venv)",
      "language": "python",
      "name": "python3"
    },
    "language_info": {
      "codemirror_mode": {
        "name": "ipython",
        "version": 3
      },
      "file_extension": ".py",
      "mimetype": "text/x-python",
      "name": "python",
      "nbconvert_exporter": "python",
      "pygments_lexer": "ipython3",
      "version": "3.9.5"
    }
  },
  "nbformat": 4,
  "nbformat_minor": 0
}
