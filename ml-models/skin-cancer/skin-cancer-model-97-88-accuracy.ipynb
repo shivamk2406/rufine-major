{
 "cells": [
  {
   "cell_type": "markdown",
   "id": "ea257291",
   "metadata": {
    "papermill": {
     "duration": 0.043949,
     "end_time": "2022-04-03T21:40:09.747883",
     "exception": false,
     "start_time": "2022-04-03T21:40:09.703934",
     "status": "completed"
    },
    "tags": []
   },
   "source": [
    "# download packages"
   ]
  },
  {
   "cell_type": "code",
   "execution_count": 1,
   "id": "748e26ae",
   "metadata": {
    "execution": {
     "iopub.execute_input": "2022-04-03T21:40:09.839215Z",
     "iopub.status.busy": "2022-04-03T21:40:09.837448Z",
     "iopub.status.idle": "2022-04-03T21:40:21.101319Z",
     "shell.execute_reply": "2022-04-03T21:40:21.100415Z",
     "shell.execute_reply.started": "2022-04-03T21:11:56.810691Z"
    },
    "papermill": {
     "duration": 11.310507,
     "end_time": "2022-04-03T21:40:21.101499",
     "exception": false,
     "start_time": "2022-04-03T21:40:09.790992",
     "status": "completed"
    },
    "tags": []
   },
   "outputs": [
    {
     "name": "stdout",
     "output_type": "stream",
     "text": [
      "Requirement already satisfied: plotly in /opt/conda/lib/python3.7/site-packages (5.6.0)\r\n",
      "Requirement already satisfied: tenacity>=6.2.0 in /opt/conda/lib/python3.7/site-packages (from plotly) (8.0.1)\r\n",
      "Requirement already satisfied: six in /opt/conda/lib/python3.7/site-packages (from plotly) (1.16.0)\r\n",
      "\u001b[33mWARNING: Running pip as the 'root' user can result in broken permissions and conflicting behaviour with the system package manager. It is recommended to use a virtual environment instead: https://pip.pypa.io/warnings/venv\u001b[0m\r\n"
     ]
    }
   ],
   "source": [
    "!pip install plotly"
   ]
  },
  {
   "cell_type": "markdown",
   "id": "bf4dc4d0",
   "metadata": {
    "papermill": {
     "duration": 0.042533,
     "end_time": "2022-04-03T21:40:21.188695",
     "exception": false,
     "start_time": "2022-04-03T21:40:21.146162",
     "status": "completed"
    },
    "tags": []
   },
   "source": [
    "# Import the libraries"
   ]
  },
  {
   "cell_type": "code",
   "execution_count": 2,
   "id": "84098739",
   "metadata": {
    "_cell_guid": "b1076dfc-b9ad-4769-8c92-a6c4dae69d19",
    "_uuid": "8f2839f25d086af736a60e9eeb907d3b93b6e0e5",
    "execution": {
     "iopub.execute_input": "2022-04-03T21:40:21.285165Z",
     "iopub.status.busy": "2022-04-03T21:40:21.283801Z",
     "iopub.status.idle": "2022-04-03T21:40:30.575466Z",
     "shell.execute_reply": "2022-04-03T21:40:30.574730Z",
     "shell.execute_reply.started": "2022-04-03T21:14:18.744647Z"
    },
    "papermill": {
     "duration": 9.34401,
     "end_time": "2022-04-03T21:40:30.575646",
     "exception": false,
     "start_time": "2022-04-03T21:40:21.231636",
     "status": "completed"
    },
    "tags": []
   },
   "outputs": [],
   "source": [
    "import numpy as np\n",
    "import pandas as pd\n",
    "\n",
    "import io\n",
    "import os\n",
    "import tensorflow as tf\n",
    "\n",
    "from PIL import Image\n",
    "from glob import glob\n",
    "import itertools\n",
    "\n",
    "import plotly.graph_objects as go\n",
    "import plotly.express as px\n",
    "from plotly.subplots import make_subplots\n",
    "import matplotlib.pyplot as plt\n",
    "import seaborn as sns\n",
    "\n",
    "\n",
    "import tensorflow as tf\n",
    "from tensorflow.keras.preprocessing.image import ImageDataGenerator\n",
    "from tensorflow.keras.models import Sequential\n",
    "from tensorflow.keras.layers import Conv2D, Flatten, BatchNormalization, Dropout, Dense, MaxPool2D\n",
    "from tensorflow.keras.callbacks import ReduceLROnPlateau, EarlyStopping\n",
    "\n",
    "from sklearn.model_selection import train_test_split\n",
    "from sklearn.metrics import classification_report, confusion_matrix\n",
    "\n",
    "from IPython.display import display\n",
    "#To see the value of multiple statements at once.\n",
    "from IPython.core.interactiveshell import InteractiveShell\n",
    "InteractiveShell.ast_node_interactivity = \"all\""
   ]
  },
  {
   "cell_type": "markdown",
   "id": "7bdc7af7",
   "metadata": {
    "papermill": {
     "duration": 0.041399,
     "end_time": "2022-04-03T21:40:30.666117",
     "exception": false,
     "start_time": "2022-04-03T21:40:30.624718",
     "status": "completed"
    },
    "tags": []
   },
   "source": [
    "# prepare train test splits"
   ]
  },
  {
   "cell_type": "code",
   "execution_count": 3,
   "id": "138954d9",
   "metadata": {
    "execution": {
     "iopub.execute_input": "2022-04-03T21:40:30.765692Z",
     "iopub.status.busy": "2022-04-03T21:40:30.764671Z",
     "iopub.status.idle": "2022-04-03T21:40:30.768428Z",
     "shell.execute_reply": "2022-04-03T21:40:30.767754Z",
     "shell.execute_reply.started": "2022-04-03T20:35:51.323683Z"
    },
    "papermill": {
     "duration": 0.054899,
     "end_time": "2022-04-03T21:40:30.768587",
     "exception": false,
     "start_time": "2022-04-03T21:40:30.713688",
     "status": "completed"
    },
    "tags": []
   },
   "outputs": [],
   "source": [
    "def prepare_for_train_test(X, Y):\n",
    "    # Splitting into train and test set\n",
    "    X_train, X_test, Y_train, Y_test = train_test_split(X, Y, test_size=0.2, random_state=1)\n",
    "    \n",
    "    # Prepare data for training and testing the model\n",
    "    train_datagen = ImageDataGenerator(rescale = 1./255,\n",
    "                                  rotation_range = 10,\n",
    "                                  width_shift_range = 0.2,\n",
    "                                  height_shift_range = 0.2,\n",
    "                                  shear_range = 0.2,\n",
    "                                  horizontal_flip = True,\n",
    "                                  vertical_flip = True,\n",
    "                                  fill_mode = 'nearest')\n",
    "    train_datagen.fit(X_train)\n",
    "    test_datagen = ImageDataGenerator(rescale = 1./255)\n",
    "    test_datagen.fit(X_test)\n",
    "    return X_train, X_test, Y_train, Y_test"
   ]
  },
  {
   "cell_type": "markdown",
   "id": "6a92c4ed",
   "metadata": {
    "papermill": {
     "duration": 0.040617,
     "end_time": "2022-04-03T21:40:30.851098",
     "exception": false,
     "start_time": "2022-04-03T21:40:30.810481",
     "status": "completed"
    },
    "tags": []
   },
   "source": [
    "# Prepare model"
   ]
  },
  {
   "cell_type": "code",
   "execution_count": 4,
   "id": "b6b3795c",
   "metadata": {
    "execution": {
     "iopub.execute_input": "2022-04-03T21:40:30.942769Z",
     "iopub.status.busy": "2022-04-03T21:40:30.942006Z",
     "iopub.status.idle": "2022-04-03T21:40:30.947477Z",
     "shell.execute_reply": "2022-04-03T21:40:30.948035Z",
     "shell.execute_reply.started": "2022-04-03T20:35:51.331894Z"
    },
    "papermill": {
     "duration": 0.055737,
     "end_time": "2022-04-03T21:40:30.948213",
     "exception": false,
     "start_time": "2022-04-03T21:40:30.892476",
     "status": "completed"
    },
    "tags": []
   },
   "outputs": [],
   "source": [
    "def create_model():\n",
    "    model = Sequential()\n",
    "    model.add(Conv2D(16, kernel_size = (3,3), input_shape = (28, 28, 3), activation = 'relu', padding = 'same'))\n",
    "    model.add(MaxPool2D(pool_size = (2,2)))\n",
    "\n",
    "    model.add(Conv2D(32, kernel_size = (3,3), activation = 'relu', padding = 'same'))\n",
    "    model.add(MaxPool2D(pool_size = (2,2), padding = 'same'))\n",
    "\n",
    "    model.add(Conv2D(64, kernel_size = (3,3), activation = 'relu', padding = 'same'))\n",
    "    model.add(MaxPool2D(pool_size = (2,2), padding = 'same'))\n",
    "    model.add(Conv2D(128, kernel_size = (3,3), activation = 'relu', padding = 'same'))\n",
    "    model.add(MaxPool2D(pool_size = (2,2), padding = 'same'))\n",
    "\n",
    "    model.add(Flatten())\n",
    "    model.add(Dense(64, activation = 'relu'))\n",
    "    model.add(Dense(32, activation='relu'))\n",
    "    model.add(Dense(7, activation='softmax'))\n",
    "\n",
    "    optimizer = tf.keras.optimizers.Adam(learning_rate = 0.001)\n",
    "\n",
    "    model.compile(loss = 'sparse_categorical_crossentropy',\n",
    "                 optimizer = optimizer,\n",
    "                  metrics = ['accuracy'])\n",
    "    print(model.summary())\n",
    "    return model;\n"
   ]
  },
  {
   "cell_type": "markdown",
   "id": "2939ba06",
   "metadata": {
    "papermill": {
     "duration": 0.04255,
     "end_time": "2022-04-03T21:40:31.032082",
     "exception": false,
     "start_time": "2022-04-03T21:40:30.989532",
     "status": "completed"
    },
    "tags": []
   },
   "source": [
    "# prepare the training plan"
   ]
  },
  {
   "cell_type": "code",
   "execution_count": 5,
   "id": "6f66df1b",
   "metadata": {
    "execution": {
     "iopub.execute_input": "2022-04-03T21:40:31.122480Z",
     "iopub.status.busy": "2022-04-03T21:40:31.121719Z",
     "iopub.status.idle": "2022-04-03T21:40:31.124379Z",
     "shell.execute_reply": "2022-04-03T21:40:31.123851Z",
     "shell.execute_reply.started": "2022-04-03T20:42:36.688Z"
    },
    "papermill": {
     "duration": 0.051455,
     "end_time": "2022-04-03T21:40:31.124544",
     "exception": false,
     "start_time": "2022-04-03T21:40:31.073089",
     "status": "completed"
    },
    "tags": []
   },
   "outputs": [],
   "source": [
    "def train_model(model, X_train, Y_train, EPOCHS=25):\n",
    "    early_stop = EarlyStopping(monitor='val_loss', patience=10, verbose=1, \n",
    "                           mode='auto')\n",
    "                               #, restore_best_weights=True)\n",
    "    \n",
    "    reduce_lr = ReduceLROnPlateau(monitor='val_loss', factor=0.1, patience=3, \n",
    "                              verbose=1, mode='auto')\n",
    "    \n",
    "    history = model.fit(X_train,\n",
    "                        Y_train,\n",
    "                        validation_split=0.2,\n",
    "                        batch_size = 64,\n",
    "                        epochs = EPOCHS,\n",
    "                        callbacks = [reduce_lr, early_stop])\n",
    "    return history"
   ]
  },
  {
   "cell_type": "markdown",
   "id": "e6544827",
   "metadata": {
    "papermill": {
     "duration": 0.042746,
     "end_time": "2022-04-03T21:40:31.208291",
     "exception": false,
     "start_time": "2022-04-03T21:40:31.165545",
     "status": "completed"
    },
    "tags": []
   },
   "source": [
    "# test the model"
   ]
  },
  {
   "cell_type": "code",
   "execution_count": 6,
   "id": "181d3484",
   "metadata": {
    "execution": {
     "iopub.execute_input": "2022-04-03T21:40:31.303331Z",
     "iopub.status.busy": "2022-04-03T21:40:31.302534Z",
     "iopub.status.idle": "2022-04-03T21:40:31.305425Z",
     "shell.execute_reply": "2022-04-03T21:40:31.305923Z",
     "shell.execute_reply.started": "2022-04-03T20:35:51.366244Z"
    },
    "papermill": {
     "duration": 0.05331,
     "end_time": "2022-04-03T21:40:31.306108",
     "exception": false,
     "start_time": "2022-04-03T21:40:31.252798",
     "status": "completed"
    },
    "tags": []
   },
   "outputs": [],
   "source": [
    "def test_model(model, X_test, Y_test):\n",
    "    model_acc = model.evaluate(X_test, Y_test, verbose=0)[1]\n",
    "    print(\"Test Accuracy: {:.3f}%\".format(model_acc * 100))\n",
    "    y_true = np.array(Y_test)\n",
    "    y_pred = model.predict(X_test)\n",
    "    y_pred = np.array(list(map(lambda x: np.argmax(x), y_pred)))\n",
    "    clr = classification_report(y_true, y_pred, target_names=label_mapping.values())\n",
    "    print(clr)\n",
    "    \n",
    "    sample_data = X_test[:15]\n",
    "    plt.figure(figsize=(22, 12))\n",
    "    for i in range(15):\n",
    "        plt.subplot(3, 5, i + 1)\n",
    "        plt.imshow(sample_data[i])\n",
    "        plt.title(label_mapping[y_true[i][0]] + '|' + label_mapping[y_pred[i]])\n",
    "        plt.axis(\"off\")\n",
    "    plt.show() "
   ]
  },
  {
   "cell_type": "markdown",
   "id": "223f3ef5",
   "metadata": {
    "papermill": {
     "duration": 0.041889,
     "end_time": "2022-04-03T21:40:31.389961",
     "exception": false,
     "start_time": "2022-04-03T21:40:31.348072",
     "status": "completed"
    },
    "tags": []
   },
   "source": [
    "# training curves plot"
   ]
  },
  {
   "cell_type": "code",
   "execution_count": 7,
   "id": "0b9f25ad",
   "metadata": {
    "execution": {
     "iopub.execute_input": "2022-04-03T21:40:31.481894Z",
     "iopub.status.busy": "2022-04-03T21:40:31.481108Z",
     "iopub.status.idle": "2022-04-03T21:40:31.484082Z",
     "shell.execute_reply": "2022-04-03T21:40:31.483573Z",
     "shell.execute_reply.started": "2022-04-03T20:35:51.377208Z"
    },
    "papermill": {
     "duration": 0.052402,
     "end_time": "2022-04-03T21:40:31.484228",
     "exception": false,
     "start_time": "2022-04-03T21:40:31.431826",
     "status": "completed"
    },
    "tags": []
   },
   "outputs": [],
   "source": [
    "def plot_model_training_curve(history):\n",
    "    fig = make_subplots(rows=1, cols=2, subplot_titles=['Model Accuracy', 'Model Loss'])\n",
    "    fig.add_trace(\n",
    "        go.Scatter(\n",
    "            y=history.history['accuracy'], \n",
    "            name='train_acc'), \n",
    "        row=1, col=1)\n",
    "    fig.add_trace(\n",
    "        go.Scatter(\n",
    "            y=history.history['val_accuracy'], \n",
    "            name='val_acc'), \n",
    "        row=1, col=1)\n",
    "    fig.add_trace(\n",
    "        go.Scatter(\n",
    "            y=history.history['loss'], \n",
    "            name='train_loss'), \n",
    "        row=1, col=2)\n",
    "    fig.add_trace(\n",
    "        go.Scatter(\n",
    "            y=history.history['val_loss'], \n",
    "            name='val_loss'), \n",
    "        row=1, col=2)\n",
    "    fig.show()"
   ]
  },
  {
   "cell_type": "markdown",
   "id": "0338092a",
   "metadata": {
    "papermill": {
     "duration": 0.040728,
     "end_time": "2022-04-03T21:40:31.566190",
     "exception": false,
     "start_time": "2022-04-03T21:40:31.525462",
     "status": "completed"
    },
    "tags": []
   },
   "source": [
    "# multi class confusion matrix"
   ]
  },
  {
   "cell_type": "code",
   "execution_count": 8,
   "id": "910af79f",
   "metadata": {
    "execution": {
     "iopub.execute_input": "2022-04-03T21:40:31.654161Z",
     "iopub.status.busy": "2022-04-03T21:40:31.653410Z",
     "iopub.status.idle": "2022-04-03T21:40:31.656363Z",
     "shell.execute_reply": "2022-04-03T21:40:31.655801Z",
     "shell.execute_reply.started": "2022-04-03T20:35:51.390014Z"
    },
    "papermill": {
     "duration": 0.049461,
     "end_time": "2022-04-03T21:40:31.656524",
     "exception": false,
     "start_time": "2022-04-03T21:40:31.607063",
     "status": "completed"
    },
    "tags": []
   },
   "outputs": [],
   "source": [
    "def create_confusion_matrix(model, x_test_normalized, y_test, cm_plot_labels, name):\n",
    "    #Get the true and predicted labels\n",
    "    y_predict_classes, y_true_classes = cal_true_pred_classes(model, x_test_normalized, y_test)\n",
    "\n",
    "    #Compute the confusion matrix\n",
    "    confusion_matrix_computed = confusion_matrix(y_true_classes, y_predict_classes)\n",
    "\n",
    "    #Plot the confusion matrix\n",
    "    plot_confusion_matrix(confusion_matrix_computed, cm_plot_labels, name) "
   ]
  },
  {
   "cell_type": "code",
   "execution_count": 9,
   "id": "c6cbec8a",
   "metadata": {
    "execution": {
     "iopub.execute_input": "2022-04-03T21:40:31.748577Z",
     "iopub.status.busy": "2022-04-03T21:40:31.747822Z",
     "iopub.status.idle": "2022-04-03T21:40:31.753517Z",
     "shell.execute_reply": "2022-04-03T21:40:31.754004Z",
     "shell.execute_reply.started": "2022-04-03T20:35:51.400486Z"
    },
    "papermill": {
     "duration": 0.056683,
     "end_time": "2022-04-03T21:40:31.754184",
     "exception": false,
     "start_time": "2022-04-03T21:40:31.697501",
     "status": "completed"
    },
    "tags": []
   },
   "outputs": [],
   "source": [
    "def plot_confusion_matrix(cm, classes,\n",
    "                          name,\n",
    "                          normalize=False,\n",
    "                          title='Confusion matrix',\n",
    "                          cmap=plt.cm.Blues):\n",
    "    \n",
    "    plt.figure(figsize=(8,6))\n",
    "    plt.imshow(cm, interpolation='nearest', cmap=cmap)\n",
    "    plt.title(name)\n",
    "    plt.colorbar()\n",
    "    tick_marks = np.arange(len(classes))\n",
    "    plt.xticks(tick_marks, classes, rotation=45)\n",
    "    plt.yticks(tick_marks, classes)\n",
    "\n",
    "    if normalize:\n",
    "        cm = cm.astype('float') / cm.sum(axis=1)[:, np.newaxis]\n",
    "\n",
    "    thresh = cm.max() / 2.\n",
    "    for i, j in itertools.product(range(cm.shape[0]), range(cm.shape[1])):\n",
    "        plt.text(j, i, cm[i, j],\n",
    "                 horizontalalignment=\"center\",\n",
    "                 color=\"white\" if cm[i, j] > thresh else \"black\")\n",
    "    \n",
    "#     b, t = plt.ylim()\n",
    "#     b += 0.5\n",
    "#     t -= 0.5\n",
    "#     plt.ylim(b, t)\n",
    "    \n",
    "    plt.tight_layout()\n",
    "    plt.ylabel('True Labels')\n",
    "    plt.xlabel('Predicted Labels')\n",
    "    fig = plt\n",
    "    fig.savefig('C:\\\\Users\\\\Marwan Gamal\\\\Downloads\\\\Skin Cancer\\\\Photo\\\\' + name + '_confusion_matrix.png', dpi=300)"
   ]
  },
  {
   "cell_type": "markdown",
   "id": "ede38050",
   "metadata": {
    "papermill": {
     "duration": 0.040685,
     "end_time": "2022-04-03T21:40:31.836112",
     "exception": false,
     "start_time": "2022-04-03T21:40:31.795427",
     "status": "completed"
    },
    "tags": []
   },
   "source": [
    "# read the data"
   ]
  },
  {
   "cell_type": "code",
   "execution_count": 10,
   "id": "ef824aec",
   "metadata": {
    "execution": {
     "iopub.execute_input": "2022-04-03T21:40:31.927414Z",
     "iopub.status.busy": "2022-04-03T21:40:31.926676Z",
     "iopub.status.idle": "2022-04-03T21:40:33.084572Z",
     "shell.execute_reply": "2022-04-03T21:40:33.085103Z",
     "shell.execute_reply.started": "2022-04-03T20:35:51.412245Z"
    },
    "papermill": {
     "duration": 1.208544,
     "end_time": "2022-04-03T21:40:33.085332",
     "exception": false,
     "start_time": "2022-04-03T21:40:31.876788",
     "status": "completed"
    },
    "tags": []
   },
   "outputs": [],
   "source": [
    "base_skin_dir = os.path.join('..', 'input')\n",
    "\n",
    "# Merging images from both folders HAM10000_images_part1.zip and HAM10000_images_part2.zip into one dictionary\n",
    "\n",
    "imageid_path_dict = {os.path.splitext(os.path.basename(x))[0]: x\n",
    "                     for x in glob(os.path.join(base_skin_dir,\"skin-cancer-mnist-ham10000/\", '*', '*.jpg'))}\n",
    "lesion_type_dict = {\n",
    "    'nv': 'Melanocytic nevi (nv)',\n",
    "    'mel': 'Melanoma (mel)',\n",
    "    'bkl': 'Benign keratosis-like lesions (bkl)',\n",
    "    'bcc': 'Basal cell carcinoma (bcc)',\n",
    "    'akiec': 'Actinic keratoses (akiec)',\n",
    "    'vasc': 'Vascular lesions (vasc)',\n",
    "    'df': 'Dermatofibroma (df)'\n",
    "}\n",
    "label_mapping = {\n",
    "    0: 'nv',\n",
    "    1: 'mel',\n",
    "    2: 'bkl',\n",
    "    3: 'bcc',\n",
    "    4: 'akiec',\n",
    "    5: 'vasc',\n",
    "    6: 'df'\n",
    "}\n",
    "reverse_label_mapping = dict((value, key) for key, value in label_mapping.items())"
   ]
  },
  {
   "cell_type": "code",
   "execution_count": 11,
   "id": "4cc205fd",
   "metadata": {
    "execution": {
     "iopub.execute_input": "2022-04-03T21:40:33.174566Z",
     "iopub.status.busy": "2022-04-03T21:40:33.173797Z",
     "iopub.status.idle": "2022-04-03T21:40:33.210452Z",
     "shell.execute_reply": "2022-04-03T21:40:33.210980Z",
     "shell.execute_reply.started": "2022-04-03T20:35:52.07126Z"
    },
    "papermill": {
     "duration": 0.0837,
     "end_time": "2022-04-03T21:40:33.211173",
     "exception": false,
     "start_time": "2022-04-03T21:40:33.127473",
     "status": "completed"
    },
    "tags": []
   },
   "outputs": [],
   "source": [
    "data = pd.read_csv(os.path.join(base_skin_dir,\"skin-cancer-mnist-ham10000/\",'HAM10000_metadata.csv'))\n",
    "\n",
    "# Creating New Columns for better readability\n",
    "\n",
    "# data['path'] = data['image_id'].map(imageid_path_dict.get)\n",
    "# data['cell_type'] = data['dx'].map(lesion_type_dict.get) \n",
    "# data['cell_type_idx'] = pd.Categorical(skin_df['cell_type']).codes\n"
   ]
  },
  {
   "cell_type": "code",
   "execution_count": 12,
   "id": "3900a63d",
   "metadata": {
    "execution": {
     "iopub.execute_input": "2022-04-03T21:40:33.306153Z",
     "iopub.status.busy": "2022-04-03T21:40:33.300098Z",
     "iopub.status.idle": "2022-04-03T21:40:33.324561Z",
     "shell.execute_reply": "2022-04-03T21:40:33.325115Z",
     "shell.execute_reply.started": "2022-04-03T20:35:52.108105Z"
    },
    "papermill": {
     "duration": 0.071567,
     "end_time": "2022-04-03T21:40:33.325312",
     "exception": false,
     "start_time": "2022-04-03T21:40:33.253745",
     "status": "completed"
    },
    "tags": []
   },
   "outputs": [
    {
     "data": {
      "text/html": [
       "<div>\n",
       "<style scoped>\n",
       "    .dataframe tbody tr th:only-of-type {\n",
       "        vertical-align: middle;\n",
       "    }\n",
       "\n",
       "    .dataframe tbody tr th {\n",
       "        vertical-align: top;\n",
       "    }\n",
       "\n",
       "    .dataframe thead th {\n",
       "        text-align: right;\n",
       "    }\n",
       "</style>\n",
       "<table border=\"1\" class=\"dataframe\">\n",
       "  <thead>\n",
       "    <tr style=\"text-align: right;\">\n",
       "      <th></th>\n",
       "      <th>lesion_id</th>\n",
       "      <th>image_id</th>\n",
       "      <th>dx</th>\n",
       "      <th>dx_type</th>\n",
       "      <th>age</th>\n",
       "      <th>sex</th>\n",
       "      <th>localization</th>\n",
       "    </tr>\n",
       "  </thead>\n",
       "  <tbody>\n",
       "    <tr>\n",
       "      <th>0</th>\n",
       "      <td>HAM_0000118</td>\n",
       "      <td>ISIC_0027419</td>\n",
       "      <td>bkl</td>\n",
       "      <td>histo</td>\n",
       "      <td>80.0</td>\n",
       "      <td>male</td>\n",
       "      <td>scalp</td>\n",
       "    </tr>\n",
       "    <tr>\n",
       "      <th>1</th>\n",
       "      <td>HAM_0000118</td>\n",
       "      <td>ISIC_0025030</td>\n",
       "      <td>bkl</td>\n",
       "      <td>histo</td>\n",
       "      <td>80.0</td>\n",
       "      <td>male</td>\n",
       "      <td>scalp</td>\n",
       "    </tr>\n",
       "    <tr>\n",
       "      <th>2</th>\n",
       "      <td>HAM_0002730</td>\n",
       "      <td>ISIC_0026769</td>\n",
       "      <td>bkl</td>\n",
       "      <td>histo</td>\n",
       "      <td>80.0</td>\n",
       "      <td>male</td>\n",
       "      <td>scalp</td>\n",
       "    </tr>\n",
       "    <tr>\n",
       "      <th>3</th>\n",
       "      <td>HAM_0002730</td>\n",
       "      <td>ISIC_0025661</td>\n",
       "      <td>bkl</td>\n",
       "      <td>histo</td>\n",
       "      <td>80.0</td>\n",
       "      <td>male</td>\n",
       "      <td>scalp</td>\n",
       "    </tr>\n",
       "    <tr>\n",
       "      <th>4</th>\n",
       "      <td>HAM_0001466</td>\n",
       "      <td>ISIC_0031633</td>\n",
       "      <td>bkl</td>\n",
       "      <td>histo</td>\n",
       "      <td>75.0</td>\n",
       "      <td>male</td>\n",
       "      <td>ear</td>\n",
       "    </tr>\n",
       "  </tbody>\n",
       "</table>\n",
       "</div>"
      ],
      "text/plain": [
       "     lesion_id      image_id   dx dx_type   age   sex localization\n",
       "0  HAM_0000118  ISIC_0027419  bkl   histo  80.0  male        scalp\n",
       "1  HAM_0000118  ISIC_0025030  bkl   histo  80.0  male        scalp\n",
       "2  HAM_0002730  ISIC_0026769  bkl   histo  80.0  male        scalp\n",
       "3  HAM_0002730  ISIC_0025661  bkl   histo  80.0  male        scalp\n",
       "4  HAM_0001466  ISIC_0031633  bkl   histo  75.0  male          ear"
      ]
     },
     "execution_count": 12,
     "metadata": {},
     "output_type": "execute_result"
    }
   ],
   "source": [
    "# Now lets see the sample of tile_df to look on newly made columns\n",
    "data.head()"
   ]
  },
  {
   "cell_type": "code",
   "execution_count": 13,
   "id": "0bddce0f",
   "metadata": {
    "execution": {
     "iopub.execute_input": "2022-04-03T21:40:33.414586Z",
     "iopub.status.busy": "2022-04-03T21:40:33.413702Z",
     "iopub.status.idle": "2022-04-03T21:40:33.468945Z",
     "shell.execute_reply": "2022-04-03T21:40:33.468428Z",
     "shell.execute_reply.started": "2022-04-03T20:35:52.132219Z"
    },
    "papermill": {
     "duration": 0.100406,
     "end_time": "2022-04-03T21:40:33.469088",
     "exception": false,
     "start_time": "2022-04-03T21:40:33.368682",
     "status": "completed"
    },
    "tags": []
   },
   "outputs": [
    {
     "data": {
      "text/html": [
       "<div>\n",
       "<style scoped>\n",
       "    .dataframe tbody tr th:only-of-type {\n",
       "        vertical-align: middle;\n",
       "    }\n",
       "\n",
       "    .dataframe tbody tr th {\n",
       "        vertical-align: top;\n",
       "    }\n",
       "\n",
       "    .dataframe thead th {\n",
       "        text-align: right;\n",
       "    }\n",
       "</style>\n",
       "<table border=\"1\" class=\"dataframe\">\n",
       "  <thead>\n",
       "    <tr style=\"text-align: right;\">\n",
       "      <th></th>\n",
       "      <th>lesion_id</th>\n",
       "      <th>image_id</th>\n",
       "      <th>dx</th>\n",
       "      <th>dx_type</th>\n",
       "      <th>sex</th>\n",
       "      <th>localization</th>\n",
       "    </tr>\n",
       "  </thead>\n",
       "  <tbody>\n",
       "    <tr>\n",
       "      <th>count</th>\n",
       "      <td>10015</td>\n",
       "      <td>10015</td>\n",
       "      <td>10015</td>\n",
       "      <td>10015</td>\n",
       "      <td>10015</td>\n",
       "      <td>10015</td>\n",
       "    </tr>\n",
       "    <tr>\n",
       "      <th>unique</th>\n",
       "      <td>7470</td>\n",
       "      <td>10015</td>\n",
       "      <td>7</td>\n",
       "      <td>4</td>\n",
       "      <td>3</td>\n",
       "      <td>15</td>\n",
       "    </tr>\n",
       "    <tr>\n",
       "      <th>top</th>\n",
       "      <td>HAM_0003789</td>\n",
       "      <td>ISIC_0027419</td>\n",
       "      <td>nv</td>\n",
       "      <td>histo</td>\n",
       "      <td>male</td>\n",
       "      <td>back</td>\n",
       "    </tr>\n",
       "    <tr>\n",
       "      <th>freq</th>\n",
       "      <td>6</td>\n",
       "      <td>1</td>\n",
       "      <td>6705</td>\n",
       "      <td>5340</td>\n",
       "      <td>5406</td>\n",
       "      <td>2192</td>\n",
       "    </tr>\n",
       "  </tbody>\n",
       "</table>\n",
       "</div>"
      ],
      "text/plain": [
       "          lesion_id      image_id     dx dx_type    sex localization\n",
       "count         10015         10015  10015   10015  10015        10015\n",
       "unique         7470         10015      7       4      3           15\n",
       "top     HAM_0003789  ISIC_0027419     nv   histo   male         back\n",
       "freq              6             1   6705    5340   5406         2192"
      ]
     },
     "execution_count": 13,
     "metadata": {},
     "output_type": "execute_result"
    }
   ],
   "source": [
    "data.describe(exclude=[np.number])"
   ]
  },
  {
   "cell_type": "code",
   "execution_count": 14,
   "id": "e04fba0a",
   "metadata": {
    "execution": {
     "iopub.execute_input": "2022-04-03T21:40:33.572553Z",
     "iopub.status.busy": "2022-04-03T21:40:33.571811Z",
     "iopub.status.idle": "2022-04-03T21:40:33.576033Z",
     "shell.execute_reply": "2022-04-03T21:40:33.575296Z",
     "shell.execute_reply.started": "2022-04-03T21:16:07.377798Z"
    },
    "papermill": {
     "duration": 0.06342,
     "end_time": "2022-04-03T21:40:33.576173",
     "exception": false,
     "start_time": "2022-04-03T21:40:33.512753",
     "status": "completed"
    },
    "tags": []
   },
   "outputs": [
    {
     "data": {
      "text/plain": [
       "1"
      ]
     },
     "execution_count": 14,
     "metadata": {},
     "output_type": "execute_result"
    }
   ],
   "source": [
    "data.isnull().any().sum()"
   ]
  },
  {
   "cell_type": "markdown",
   "id": "e14b3f95",
   "metadata": {
    "papermill": {
     "duration": 0.042533,
     "end_time": "2022-04-03T21:40:33.661734",
     "exception": false,
     "start_time": "2022-04-03T21:40:33.619201",
     "status": "completed"
    },
    "tags": []
   },
   "source": [
    "# Imputing the Null values and preparing the data"
   ]
  },
  {
   "cell_type": "code",
   "execution_count": 15,
   "id": "d2e4bd41",
   "metadata": {
    "execution": {
     "iopub.execute_input": "2022-04-03T21:40:33.751005Z",
     "iopub.status.busy": "2022-04-03T21:40:33.750307Z",
     "iopub.status.idle": "2022-04-03T21:40:33.756213Z",
     "shell.execute_reply": "2022-04-03T21:40:33.756722Z",
     "shell.execute_reply.started": "2022-04-03T20:35:52.184373Z"
    },
    "papermill": {
     "duration": 0.052461,
     "end_time": "2022-04-03T21:40:33.756911",
     "exception": false,
     "start_time": "2022-04-03T21:40:33.704450",
     "status": "completed"
    },
    "tags": []
   },
   "outputs": [],
   "source": [
    "# Handling null values\n",
    "data['age'].fillna(value=int(data['age'].mean()), inplace=True)\n",
    "# Converting dtype of age to int32\n",
    "data['age'] = data['age'].astype('int32')"
   ]
  },
  {
   "cell_type": "code",
   "execution_count": 16,
   "id": "81d09506",
   "metadata": {
    "execution": {
     "iopub.execute_input": "2022-04-03T21:40:33.853670Z",
     "iopub.status.busy": "2022-04-03T21:40:33.852940Z",
     "iopub.status.idle": "2022-04-03T21:40:33.854804Z",
     "shell.execute_reply": "2022-04-03T21:40:33.855368Z",
     "shell.execute_reply.started": "2022-04-03T20:35:52.191479Z"
    },
    "papermill": {
     "duration": 0.055759,
     "end_time": "2022-04-03T21:40:33.855561",
     "exception": false,
     "start_time": "2022-04-03T21:40:33.799802",
     "status": "completed"
    },
    "tags": []
   },
   "outputs": [],
   "source": [
    "# Adding cell_type and image_path columns\n",
    "data['cell_type'] = data['dx'].map(lesion_type_dict.get)\n",
    "data['path'] = data['image_id'].map(imageid_path_dict.get)"
   ]
  },
  {
   "cell_type": "code",
   "execution_count": 17,
   "id": "958b740c",
   "metadata": {
    "execution": {
     "iopub.execute_input": "2022-04-03T21:40:33.945299Z",
     "iopub.status.busy": "2022-04-03T21:40:33.944602Z",
     "iopub.status.idle": "2022-04-03T21:43:55.183717Z",
     "shell.execute_reply": "2022-04-03T21:43:55.183074Z",
     "shell.execute_reply.started": "2022-04-03T20:35:52.20681Z"
    },
    "papermill": {
     "duration": 201.28497,
     "end_time": "2022-04-03T21:43:55.183929",
     "exception": false,
     "start_time": "2022-04-03T21:40:33.898959",
     "status": "completed"
    },
    "tags": []
   },
   "outputs": [],
   "source": [
    "# Adding image pixels\n",
    "data['image_pixel'] = data['path'].map(lambda x: np.asarray(Image.open(x).resize((28,28))))"
   ]
  },
  {
   "cell_type": "code",
   "execution_count": 18,
   "id": "559c7ba1",
   "metadata": {
    "execution": {
     "iopub.execute_input": "2022-04-03T21:43:55.280262Z",
     "iopub.status.busy": "2022-04-03T21:43:55.279573Z",
     "iopub.status.idle": "2022-04-03T21:43:56.368096Z",
     "shell.execute_reply": "2022-04-03T21:43:56.367538Z",
     "shell.execute_reply.started": "2022-04-03T20:38:48.193007Z"
    },
    "papermill": {
     "duration": 1.140556,
     "end_time": "2022-04-03T21:43:56.368252",
     "exception": false,
     "start_time": "2022-04-03T21:43:55.227696",
     "status": "completed"
    },
    "tags": []
   },
   "outputs": [
    {
     "data": {
      "image/png": "[encoded data removed]",
      "text/plain": [
       "<Figure size 1584x2304 with 14 Axes>"
      ]
     },
     "metadata": {
      "needs_background": "light"
     },
     "output_type": "display_data"
    }
   ],
   "source": [
    "# Displaying 2 images for each label\n",
    "sample_data = data.groupby('dx').apply(lambda df: df.iloc[:2, [9, 7]])\n",
    "plt.figure(figsize=(22, 32))\n",
    "for i in range(14):\n",
    "    plt.subplot(7, 5, i + 1)\n",
    "    plt.imshow(np.squeeze(sample_data['image_pixel'][i]))\n",
    "    img_label = sample_data['cell_type'][i]\n",
    "    plt.title(img_label)\n",
    "    plt.axis(\"off\")\n",
    "plt.show();"
   ]
  },
  {
   "cell_type": "code",
   "execution_count": 19,
   "id": "5b4697f1",
   "metadata": {
    "execution": {
     "iopub.execute_input": "2022-04-03T21:43:56.473938Z",
     "iopub.status.busy": "2022-04-03T21:43:56.472916Z",
     "iopub.status.idle": "2022-04-03T21:43:56.482566Z",
     "shell.execute_reply": "2022-04-03T21:43:56.483134Z",
     "shell.execute_reply.started": "2022-04-03T20:38:49.126022Z"
    },
    "papermill": {
     "duration": 0.06892,
     "end_time": "2022-04-03T21:43:56.483329",
     "exception": false,
     "start_time": "2022-04-03T21:43:56.414409",
     "status": "completed"
    },
    "tags": []
   },
   "outputs": [],
   "source": [
    "data['label'] = data['dx'].map(reverse_label_mapping.get)\n",
    "\n",
    "data = data.sort_values('label')\n",
    "data = data.reset_index()"
   ]
  },
  {
   "cell_type": "code",
   "execution_count": 20,
   "id": "2581402a",
   "metadata": {
    "execution": {
     "iopub.execute_input": "2022-04-03T21:43:56.589327Z",
     "iopub.status.busy": "2022-04-03T21:43:56.588240Z",
     "iopub.status.idle": "2022-04-03T21:43:56.684378Z",
     "shell.execute_reply": "2022-04-03T21:43:56.684939Z",
     "shell.execute_reply.started": "2022-04-03T20:38:49.14372Z"
    },
    "papermill": {
     "duration": 0.151713,
     "end_time": "2022-04-03T21:43:56.685134",
     "exception": false,
     "start_time": "2022-04-03T21:43:56.533421",
     "status": "completed"
    },
    "tags": []
   },
   "outputs": [],
   "source": [
    "counter = 0\n",
    "frames = [data]\n",
    "for i in [4,4,11,17,45,52]:\n",
    "    counter+=1\n",
    "    index = data[data['label'] == counter].index.values\n",
    "    df_index = data.iloc[int(min(index)):int(max(index)+1)]\n",
    "    df_index = df_index.append([df_index]*i, ignore_index = True)\n",
    "    frames.append(df_index)\n",
    "    "
   ]
  },
  {
   "cell_type": "code",
   "execution_count": 21,
   "id": "c323778e",
   "metadata": {
    "execution": {
     "iopub.execute_input": "2022-04-03T21:43:56.781693Z",
     "iopub.status.busy": "2022-04-03T21:43:56.780617Z",
     "iopub.status.idle": "2022-04-03T21:43:56.799088Z",
     "shell.execute_reply": "2022-04-03T21:43:56.799668Z",
     "shell.execute_reply.started": "2022-04-03T20:38:49.242233Z"
    },
    "papermill": {
     "duration": 0.068526,
     "end_time": "2022-04-03T21:43:56.799847",
     "exception": false,
     "start_time": "2022-04-03T21:43:56.731321",
     "status": "completed"
    },
    "tags": []
   },
   "outputs": [],
   "source": [
    "final_data = pd.concat(frames)"
   ]
  },
  {
   "cell_type": "code",
   "execution_count": 22,
   "id": "2588c2b8",
   "metadata": {
    "execution": {
     "iopub.execute_input": "2022-04-03T21:43:56.896034Z",
     "iopub.status.busy": "2022-04-03T21:43:56.894974Z",
     "iopub.status.idle": "2022-04-03T21:43:56.898997Z",
     "shell.execute_reply": "2022-04-03T21:43:56.899542Z",
     "shell.execute_reply.started": "2022-04-03T20:38:49.260602Z"
    },
    "papermill": {
     "duration": 0.054812,
     "end_time": "2022-04-03T21:43:56.899750",
     "exception": false,
     "start_time": "2022-04-03T21:43:56.844938",
     "status": "completed"
    },
    "tags": []
   },
   "outputs": [
    {
     "name": "stdout",
     "output_type": "stream",
     "text": [
      "(10015, 12)\n",
      "(45756, 12)\n"
     ]
    }
   ],
   "source": [
    "print(data.shape)\n",
    "print(final_data.shape)"
   ]
  },
  {
   "cell_type": "code",
   "execution_count": 23,
   "id": "68da32e3",
   "metadata": {
    "execution": {
     "iopub.execute_input": "2022-04-03T21:43:57.003658Z",
     "iopub.status.busy": "2022-04-03T21:43:57.002609Z",
     "iopub.status.idle": "2022-04-03T21:43:57.036661Z",
     "shell.execute_reply": "2022-04-03T21:43:57.037199Z",
     "shell.execute_reply.started": "2022-04-03T20:38:49.267514Z"
    },
    "papermill": {
     "duration": 0.090064,
     "end_time": "2022-04-03T21:43:57.037404",
     "exception": false,
     "start_time": "2022-04-03T21:43:56.947340",
     "status": "completed"
    },
    "tags": []
   },
   "outputs": [
    {
     "name": "stdout",
     "output_type": "stream",
     "text": [
      "(10015, 28, 28, 3)\n",
      "(10015, 1)\n"
     ]
    }
   ],
   "source": [
    "# ORIGINAL DATA\n",
    "# Converting image pixel columnm into required format\n",
    "X_orig = data['image_pixel'].to_numpy()\n",
    "X_orig = np.stack(X_orig, axis=0)\n",
    "Y_orig = np.array(data.iloc[:, -1:])\n",
    "print(X_orig.shape)\n",
    "print(Y_orig.shape)"
   ]
  },
  {
   "cell_type": "code",
   "execution_count": 24,
   "id": "7cb3a731",
   "metadata": {
    "execution": {
     "iopub.execute_input": "2022-04-03T21:43:57.162001Z",
     "iopub.status.busy": "2022-04-03T21:43:57.156921Z",
     "iopub.status.idle": "2022-04-03T21:43:57.275856Z",
     "shell.execute_reply": "2022-04-03T21:43:57.274678Z",
     "shell.execute_reply.started": "2022-04-03T20:38:49.31199Z"
    },
    "papermill": {
     "duration": 0.1923,
     "end_time": "2022-04-03T21:43:57.276051",
     "exception": false,
     "start_time": "2022-04-03T21:43:57.083751",
     "status": "completed"
    },
    "tags": []
   },
   "outputs": [
    {
     "name": "stdout",
     "output_type": "stream",
     "text": [
      "(45756, 28, 28, 3)\n",
      "(45756, 1)\n"
     ]
    }
   ],
   "source": [
    "# AUGMENTED DATA\n",
    "# Converting image pixel columnm into required format\n",
    "X_aug = final_data['image_pixel'].to_numpy()\n",
    "X_aug = np.stack(X_aug, axis=0)\n",
    "Y_aug = np.array(final_data.iloc[:, -1:])\n",
    "print(X_aug.shape)\n",
    "print(Y_aug.shape)"
   ]
  },
  {
   "cell_type": "code",
   "execution_count": 25,
   "id": "2370dc00",
   "metadata": {
    "execution": {
     "iopub.execute_input": "2022-04-03T21:43:57.377896Z",
     "iopub.status.busy": "2022-04-03T21:43:57.376806Z",
     "iopub.status.idle": "2022-04-03T21:43:57.484874Z",
     "shell.execute_reply": "2022-04-03T21:43:57.485546Z",
     "shell.execute_reply.started": "2022-04-03T20:38:49.455096Z"
    },
    "papermill": {
     "duration": 0.16233,
     "end_time": "2022-04-03T21:43:57.485741",
     "exception": false,
     "start_time": "2022-04-03T21:43:57.323411",
     "status": "completed"
    },
    "tags": []
   },
   "outputs": [],
   "source": [
    "# For Original Dataset\n",
    "X_train_orig, X_test_orig, Y_train_orig, Y_test_orig = prepare_for_train_test(X_orig, Y_orig)"
   ]
  },
  {
   "cell_type": "code",
   "execution_count": 26,
   "id": "c3b323f2",
   "metadata": {
    "execution": {
     "iopub.execute_input": "2022-04-03T21:43:57.585904Z",
     "iopub.status.busy": "2022-04-03T21:43:57.585177Z",
     "iopub.status.idle": "2022-04-03T21:43:57.790583Z",
     "shell.execute_reply": "2022-04-03T21:43:57.791365Z",
     "shell.execute_reply.started": "2022-04-03T20:43:24.906243Z"
    },
    "papermill": {
     "duration": 0.258889,
     "end_time": "2022-04-03T21:43:57.791618",
     "exception": false,
     "start_time": "2022-04-03T21:43:57.532729",
     "status": "completed"
    },
    "tags": []
   },
   "outputs": [
    {
     "name": "stdout",
     "output_type": "stream",
     "text": [
      "Model: \"sequential\"\n",
      "_________________________________________________________________\n",
      "Layer (type)                 Output Shape              Param #   \n",
      "=================================================================\n",
      "conv2d (Conv2D)              (None, 28, 28, 16)        448       \n",
      "_________________________________________________________________\n",
      "max_pooling2d (MaxPooling2D) (None, 14, 14, 16)        0         \n",
      "_________________________________________________________________\n",
      "conv2d_1 (Conv2D)            (None, 14, 14, 32)        4640      \n",
      "_________________________________________________________________\n",
      "max_pooling2d_1 (MaxPooling2 (None, 7, 7, 32)          0         \n",
      "_________________________________________________________________\n",
      "conv2d_2 (Conv2D)            (None, 7, 7, 64)          18496     \n",
      "_________________________________________________________________\n",
      "max_pooling2d_2 (MaxPooling2 (None, 4, 4, 64)          0         \n",
      "_________________________________________________________________\n",
      "conv2d_3 (Conv2D)            (None, 4, 4, 128)         73856     \n",
      "_________________________________________________________________\n",
      "max_pooling2d_3 (MaxPooling2 (None, 2, 2, 128)         0         \n",
      "_________________________________________________________________\n",
      "flatten (Flatten)            (None, 512)               0         \n",
      "_________________________________________________________________\n",
      "dense (Dense)                (None, 64)                32832     \n",
      "_________________________________________________________________\n",
      "dense_1 (Dense)              (None, 32)                2080      \n",
      "_________________________________________________________________\n",
      "dense_2 (Dense)              (None, 7)                 231       \n",
      "=================================================================\n",
      "Total params: 132,583\n",
      "Trainable params: 132,583\n",
      "Non-trainable params: 0\n",
      "_________________________________________________________________\n",
      "None\n"
     ]
    },
    {
     "name": "stderr",
     "output_type": "stream",
     "text": [
      "2022-04-03 21:43:57.621350: I tensorflow/core/common_runtime/process_util.cc:146] Creating new thread pool with default inter op setting: 2. Tune using inter_op_parallelism_threads for best performance.\n"
     ]
    }
   ],
   "source": [
    "model =create_model()"
   ]
  },
  {
   "cell_type": "code",
   "execution_count": 27,
   "id": "325ef6fa",
   "metadata": {
    "execution": {
     "iopub.execute_input": "2022-04-03T21:43:57.897780Z",
     "iopub.status.busy": "2022-04-03T21:43:57.893195Z",
     "iopub.status.idle": "2022-04-03T21:43:58.338167Z",
     "shell.execute_reply": "2022-04-03T21:43:58.337482Z",
     "shell.execute_reply.started": "2022-04-03T20:43:45.854988Z"
    },
    "papermill": {
     "duration": 0.497945,
     "end_time": "2022-04-03T21:43:58.338329",
     "exception": false,
     "start_time": "2022-04-03T21:43:57.840384",
     "status": "completed"
    },
    "tags": []
   },
   "outputs": [],
   "source": [
    "X_train_aug, X_test_aug, Y_train_aug, Y_test_aug = prepare_for_train_test(X_aug, Y_aug)"
   ]
  },
  {
   "cell_type": "code",
   "execution_count": 28,
   "id": "3c81748c",
   "metadata": {
    "execution": {
     "iopub.execute_input": "2022-04-03T21:43:58.441600Z",
     "iopub.status.busy": "2022-04-03T21:43:58.440849Z",
     "iopub.status.idle": "2022-04-03T21:49:58.132014Z",
     "shell.execute_reply": "2022-04-03T21:49:58.131217Z",
     "shell.execute_reply.started": "2022-04-03T20:43:47.238419Z"
    },
    "papermill": {
     "duration": 359.745214,
     "end_time": "2022-04-03T21:49:58.132206",
     "exception": false,
     "start_time": "2022-04-03T21:43:58.386992",
     "status": "completed"
    },
    "tags": []
   },
   "outputs": [
    {
     "name": "stderr",
     "output_type": "stream",
     "text": [
      "2022-04-03 21:43:58.591888: I tensorflow/compiler/mlir/mlir_graph_optimization_pass.cc:185] None of the MLIR Optimization Passes are enabled (registered 2)\n"
     ]
    },
    {
     "name": "stdout",
     "output_type": "stream",
     "text": [
      "Epoch 1/50\n",
      "458/458 [==============================] - 15s 30ms/step - loss: 1.3926 - accuracy: 0.5052 - val_loss: 0.8939 - val_accuracy: 0.6587\n",
      "Epoch 2/50\n",
      "458/458 [==============================] - 12s 26ms/step - loss: 0.7366 - accuracy: 0.7206 - val_loss: 0.5625 - val_accuracy: 0.7927\n",
      "Epoch 3/50\n",
      "458/458 [==============================] - 12s 27ms/step - loss: 0.5084 - accuracy: 0.8090 - val_loss: 0.4063 - val_accuracy: 0.8448\n",
      "Epoch 4/50\n",
      "458/458 [==============================] - 13s 27ms/step - loss: 0.3593 - accuracy: 0.8655 - val_loss: 0.3477 - val_accuracy: 0.8683\n",
      "Epoch 5/50\n",
      "458/458 [==============================] - 12s 27ms/step - loss: 0.2832 - accuracy: 0.8954 - val_loss: 0.3200 - val_accuracy: 0.8911\n",
      "Epoch 6/50\n",
      "458/458 [==============================] - 13s 28ms/step - loss: 0.2151 - accuracy: 0.9216 - val_loss: 0.2348 - val_accuracy: 0.9190\n",
      "Epoch 7/50\n",
      "458/458 [==============================] - 12s 26ms/step - loss: 0.2102 - accuracy: 0.9242 - val_loss: 0.2322 - val_accuracy: 0.9187\n",
      "Epoch 8/50\n",
      "458/458 [==============================] - 12s 27ms/step - loss: 0.1503 - accuracy: 0.9462 - val_loss: 0.2946 - val_accuracy: 0.8932\n",
      "Epoch 9/50\n",
      "458/458 [==============================] - 13s 27ms/step - loss: 0.1804 - accuracy: 0.9346 - val_loss: 0.2296 - val_accuracy: 0.9115\n",
      "Epoch 10/50\n",
      "458/458 [==============================] - 12s 27ms/step - loss: 0.1595 - accuracy: 0.9443 - val_loss: 0.2015 - val_accuracy: 0.9340\n",
      "Epoch 11/50\n",
      "458/458 [==============================] - 12s 26ms/step - loss: 0.1151 - accuracy: 0.9583 - val_loss: 0.1804 - val_accuracy: 0.9435\n",
      "Epoch 12/50\n",
      "458/458 [==============================] - 13s 28ms/step - loss: 0.1410 - accuracy: 0.9512 - val_loss: 0.2239 - val_accuracy: 0.9318\n",
      "Epoch 13/50\n",
      "458/458 [==============================] - 12s 27ms/step - loss: 0.0829 - accuracy: 0.9705 - val_loss: 0.1808 - val_accuracy: 0.9381\n",
      "Epoch 14/50\n",
      "458/458 [==============================] - 13s 28ms/step - loss: 0.1203 - accuracy: 0.9586 - val_loss: 0.2019 - val_accuracy: 0.9385\n",
      "\n",
      "Epoch 00014: ReduceLROnPlateau reducing learning rate to 0.00010000000474974513.\n",
      "Epoch 15/50\n",
      "458/458 [==============================] - 12s 26ms/step - loss: 0.0313 - accuracy: 0.9911 - val_loss: 0.0857 - val_accuracy: 0.9766\n",
      "Epoch 16/50\n",
      "458/458 [==============================] - 12s 27ms/step - loss: 0.0130 - accuracy: 0.9971 - val_loss: 0.0792 - val_accuracy: 0.9796\n",
      "Epoch 17/50\n",
      "458/458 [==============================] - 14s 30ms/step - loss: 0.0082 - accuracy: 0.9985 - val_loss: 0.0821 - val_accuracy: 0.9794\n",
      "Epoch 18/50\n",
      "458/458 [==============================] - 15s 32ms/step - loss: 0.0055 - accuracy: 0.9994 - val_loss: 0.0777 - val_accuracy: 0.9806\n",
      "Epoch 19/50\n",
      "458/458 [==============================] - 13s 28ms/step - loss: 0.0039 - accuracy: 0.9996 - val_loss: 0.0828 - val_accuracy: 0.9806\n",
      "Epoch 20/50\n",
      "458/458 [==============================] - 12s 27ms/step - loss: 0.0026 - accuracy: 0.9999 - val_loss: 0.0819 - val_accuracy: 0.9806\n",
      "Epoch 21/50\n",
      "458/458 [==============================] - 13s 29ms/step - loss: 0.0019 - accuracy: 0.9999 - val_loss: 0.0879 - val_accuracy: 0.9806\n",
      "\n",
      "Epoch 00021: ReduceLROnPlateau reducing learning rate to 1.0000000474974514e-05.\n",
      "Epoch 22/50\n",
      "458/458 [==============================] - 13s 29ms/step - loss: 0.0014 - accuracy: 1.0000 - val_loss: 0.0874 - val_accuracy: 0.9810\n",
      "Epoch 23/50\n",
      "458/458 [==============================] - 13s 28ms/step - loss: 0.0013 - accuracy: 1.0000 - val_loss: 0.0872 - val_accuracy: 0.9809\n",
      "Epoch 24/50\n",
      "458/458 [==============================] - 14s 30ms/step - loss: 0.0012 - accuracy: 1.0000 - val_loss: 0.0874 - val_accuracy: 0.9805\n",
      "\n",
      "Epoch 00024: ReduceLROnPlateau reducing learning rate to 1.0000000656873453e-06.\n",
      "Epoch 25/50\n",
      "458/458 [==============================] - 13s 29ms/step - loss: 0.0012 - accuracy: 1.0000 - val_loss: 0.0872 - val_accuracy: 0.9809\n",
      "Epoch 26/50\n",
      "458/458 [==============================] - 13s 29ms/step - loss: 0.0011 - accuracy: 1.0000 - val_loss: 0.0872 - val_accuracy: 0.9809\n",
      "Epoch 27/50\n",
      "458/458 [==============================] - 13s 29ms/step - loss: 0.0011 - accuracy: 1.0000 - val_loss: 0.0870 - val_accuracy: 0.9810\n",
      "\n",
      "Epoch 00027: ReduceLROnPlateau reducing learning rate to 1.0000001111620805e-07.\n",
      "Epoch 28/50\n",
      "458/458 [==============================] - 12s 26ms/step - loss: 0.0011 - accuracy: 1.0000 - val_loss: 0.0870 - val_accuracy: 0.9810\n",
      "Epoch 00028: early stopping\n"
     ]
    }
   ],
   "source": [
    "model2_history = train_model(model, X_train_aug, Y_train_aug, 50)"
   ]
  },
  {
   "cell_type": "code",
   "execution_count": 29,
   "id": "2867a37d",
   "metadata": {
    "execution": {
     "iopub.execute_input": "2022-04-03T21:50:02.035117Z",
     "iopub.status.busy": "2022-04-03T21:50:02.033802Z",
     "iopub.status.idle": "2022-04-03T21:50:02.045991Z",
     "shell.execute_reply": "2022-04-03T21:50:02.047101Z",
     "shell.execute_reply.started": "2022-04-03T20:54:00.236293Z"
    },
    "papermill": {
     "duration": 1.975386,
     "end_time": "2022-04-03T21:50:02.047349",
     "exception": false,
     "start_time": "2022-04-03T21:50:00.071963",
     "status": "completed"
    },
    "tags": []
   },
   "outputs": [
    {
     "data": {
      "text/plain": [
       "<keras.engine.sequential.Sequential at 0x7f92f3101b10>"
      ]
     },
     "execution_count": 29,
     "metadata": {},
     "output_type": "execute_result"
    }
   ],
   "source": [
    "model"
   ]
  },
  {
   "cell_type": "markdown",
   "id": "d8f4e4e2",
   "metadata": {
    "papermill": {
     "duration": 1.927422,
     "end_time": "2022-04-03T21:50:06.005821",
     "exception": false,
     "start_time": "2022-04-03T21:50:04.078399",
     "status": "completed"
    },
    "tags": []
   },
   "source": [
    "# save model"
   ]
  },
  {
   "cell_type": "code",
   "execution_count": 30,
   "id": "d61b6c3c",
   "metadata": {
    "execution": {
     "iopub.execute_input": "2022-04-03T21:50:10.188341Z",
     "iopub.status.busy": "2022-04-03T21:50:10.187607Z",
     "iopub.status.idle": "2022-04-03T21:50:23.424198Z",
     "shell.execute_reply": "2022-04-03T21:50:23.423509Z",
     "shell.execute_reply.started": "2022-04-03T20:53:11.606236Z"
    },
    "papermill": {
     "duration": 15.272552,
     "end_time": "2022-04-03T21:50:23.424409",
     "exception": false,
     "start_time": "2022-04-03T21:50:08.151857",
     "status": "completed"
    },
    "tags": []
   },
   "outputs": [
    {
     "name": "stderr",
     "output_type": "stream",
     "text": [
      "2022-04-03 21:50:21.961635: W tensorflow/python/util/util.cc:348] Sets are not currently considered sequences, but this may change in the future, so consider avoiding using them.\n"
     ]
    }
   ],
   "source": [
    "model.save('Skin_Cancer.sav')"
   ]
  },
  {
   "cell_type": "markdown",
   "id": "62ca79fd",
   "metadata": {
    "papermill": {
     "duration": 1.933718,
     "end_time": "2022-04-03T21:50:27.330244",
     "exception": false,
     "start_time": "2022-04-03T21:50:25.396526",
     "status": "completed"
    },
    "tags": []
   },
   "source": [
    "# save model weights"
   ]
  },
  {
   "cell_type": "code",
   "execution_count": 31,
   "id": "e2ce0bcb",
   "metadata": {
    "execution": {
     "iopub.execute_input": "2022-04-03T21:50:31.271997Z",
     "iopub.status.busy": "2022-04-03T21:50:31.271286Z",
     "iopub.status.idle": "2022-04-03T21:50:31.311444Z",
     "shell.execute_reply": "2022-04-03T21:50:31.310758Z",
     "shell.execute_reply.started": "2022-04-03T20:56:52.584316Z"
    },
    "papermill": {
     "duration": 2.05498,
     "end_time": "2022-04-03T21:50:31.311601",
     "exception": false,
     "start_time": "2022-04-03T21:50:29.256621",
     "status": "completed"
    },
    "tags": []
   },
   "outputs": [],
   "source": [
    "model.save_weights(\"Skin_Cancer.hdf5\")"
   ]
  },
  {
   "cell_type": "code",
   "execution_count": 32,
   "id": "9ae40afb",
   "metadata": {
    "execution": {
     "iopub.execute_input": "2022-04-03T21:50:35.206677Z",
     "iopub.status.busy": "2022-04-03T21:50:35.205956Z",
     "iopub.status.idle": "2022-04-03T21:50:35.210288Z",
     "shell.execute_reply": "2022-04-03T21:50:35.210899Z",
     "shell.execute_reply.started": "2022-04-03T20:57:05.275281Z"
    },
    "papermill": {
     "duration": 1.946984,
     "end_time": "2022-04-03T21:50:35.211090",
     "exception": false,
     "start_time": "2022-04-03T21:50:33.264106",
     "status": "completed"
    },
    "tags": []
   },
   "outputs": [
    {
     "data": {
      "text/html": [
       "<a href='Skin_Cancer.hdf5' target='_blank'>Skin_Cancer.hdf5</a><br>"
      ],
      "text/plain": [
       "/kaggle/working/Skin_Cancer.hdf5"
      ]
     },
     "execution_count": 32,
     "metadata": {},
     "output_type": "execute_result"
    }
   ],
   "source": [
    "from IPython.display import FileLink\n",
    "FileLink('Skin_Cancer.hdf5')"
   ]
  },
  {
   "cell_type": "code",
   "execution_count": null,
   "id": "19948367",
   "metadata": {
    "papermill": {
     "duration": 1.928294,
     "end_time": "2022-04-03T21:50:39.134818",
     "exception": false,
     "start_time": "2022-04-03T21:50:37.206524",
     "status": "completed"
    },
    "tags": []
   },
   "outputs": [],
   "source": []
  }
 ],
 "metadata": {
  "kernelspec": {
   "display_name": "Python 3",
   "language": "python",
   "name": "python3"
  },
  "language_info": {
   "codemirror_mode": {
    "name": "ipython",
    "version": 3
   },
   "file_extension": ".py",
   "mimetype": "text/x-python",
   "name": "python",
   "nbconvert_exporter": "python",
   "pygments_lexer": "ipython3",
   "version": "3.7.12"
  },
  "papermill": {
   "default_parameters": {},
   "duration": 645.874017,
   "end_time": "2022-04-03T21:50:44.272320",
   "environment_variables": {},
   "exception": null,
   "input_path": "__notebook__.ipynb",
   "output_path": "__notebook__.ipynb",
   "parameters": {},
   "start_time": "2022-04-03T21:39:58.398303",
   "version": "2.3.3"
  }
 },
 "nbformat": 4,
 "nbformat_minor": 5
}
